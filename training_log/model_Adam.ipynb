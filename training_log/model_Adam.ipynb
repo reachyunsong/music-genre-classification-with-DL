{
  "nbformat": 4,
  "nbformat_minor": 0,
  "metadata": {
    "colab": {
      "name": "model_adam_n.ipynb",
      "provenance": []
    },
    "kernelspec": {
      "name": "python3",
      "display_name": "Python 3"
    },
    "accelerator": "GPU"
  },
  "cells": [
    {
      "cell_type": "code",
      "metadata": {
        "id": "1tD-eXsMV1TA",
        "colab_type": "code",
        "outputId": "205d662b-eeba-4fda-e0a9-5bd297dcd38f",
        "colab": {
          "base_uri": "https://localhost:8080/",
          "height": 125
        }
      },
      "source": [
        "from google.colab import drive\n",
        "drive.mount('/content/drive')"
      ],
      "execution_count": 0,
      "outputs": [
        {
          "output_type": "stream",
          "text": [
            "Go to this URL in a browser: https://accounts.google.com/o/oauth2/auth?client_id=947318989803-6bn6qk8qdgf4n4g3pfee6491hc0brc4i.apps.googleusercontent.com&redirect_uri=urn%3aietf%3awg%3aoauth%3a2.0%3aoob&response_type=code&scope=email%20https%3a%2f%2fwww.googleapis.com%2fauth%2fdocs.test%20https%3a%2f%2fwww.googleapis.com%2fauth%2fdrive%20https%3a%2f%2fwww.googleapis.com%2fauth%2fdrive.photos.readonly%20https%3a%2f%2fwww.googleapis.com%2fauth%2fpeopleapi.readonly\n",
            "\n",
            "Enter your authorization code:\n",
            "··········\n",
            "Mounted at /content/drive\n"
          ],
          "name": "stdout"
        }
      ]
    },
    {
      "cell_type": "code",
      "metadata": {
        "id": "4zhmkOnbWAAp",
        "colab_type": "code",
        "outputId": "1c36960b-db41-4ee0-d60d-ad83e1b9a50c",
        "colab": {
          "base_uri": "https://localhost:8080/",
          "height": 52
        }
      },
      "source": [
        "import numpy as np\n",
        "\n",
        "train = np.load('/content/drive/Shared drives/Artists!/data_modified/train_log.npz')\n",
        "print(train.files)\n",
        "x_train = train['arr_0']\n",
        "y_train = train['arr_1']\n",
        "print(x_train.shape,y_train.shape)"
      ],
      "execution_count": 0,
      "outputs": [
        {
          "output_type": "stream",
          "text": [
            "['arr_0', 'arr_1']\n",
            "(6527, 640, 128) (6527, 17)\n"
          ],
          "name": "stdout"
        }
      ]
    },
    {
      "cell_type": "code",
      "metadata": {
        "id": "f12g_biXWHEk",
        "colab_type": "code",
        "outputId": "0973f3f8-772a-476e-cd33-5b236ee4aa1a",
        "colab": {
          "base_uri": "https://localhost:8080/",
          "height": 34
        }
      },
      "source": [
        "val = np.load('/content/drive/Shared drives/Artists!/data_modified/val_log.npz')\n",
        "x_val = val['arr_0']\n",
        "y_val = val['arr_1']\n",
        "print(x_val.shape,y_val.shape)"
      ],
      "execution_count": 0,
      "outputs": [
        {
          "output_type": "stream",
          "text": [
            "(814, 640, 128) (814, 17)\n"
          ],
          "name": "stdout"
        }
      ]
    },
    {
      "cell_type": "code",
      "metadata": {
        "id": "tllz8OCzWR4G",
        "colab_type": "code",
        "outputId": "e559e4e5-c9a4-4aaa-acc3-bdead4c16ef0",
        "colab": {
          "base_uri": "https://localhost:8080/",
          "height": 34
        }
      },
      "source": [
        "test = np.load('/content/drive/Shared drives/Artists!/data_modified/test_log.npz')\n",
        "x_test = test['arr_0']\n",
        "y_test = test['arr_1']\n",
        "print(x_test.shape,y_test.shape)"
      ],
      "execution_count": 0,
      "outputs": [
        {
          "output_type": "stream",
          "text": [
            "(823, 640, 128) (823,)\n"
          ],
          "name": "stdout"
        }
      ]
    },
    {
      "cell_type": "code",
      "metadata": {
        "id": "M-tdNFrhWWKn",
        "colab_type": "code",
        "outputId": "11fc1077-f2d3-48e8-9873-e52404174410",
        "colab": {
          "base_uri": "https://localhost:8080/",
          "height": 81
        }
      },
      "source": [
        "import tensorflow as tf\n",
        "tf.__version__"
      ],
      "execution_count": 0,
      "outputs": [
        {
          "output_type": "display_data",
          "data": {
            "text/html": [
              "<p style=\"color: red;\">\n",
              "The default version of TensorFlow in Colab will soon switch to TensorFlow 2.x.<br>\n",
              "We recommend you <a href=\"https://www.tensorflow.org/guide/migrate\" target=\"_blank\">upgrade</a> now \n",
              "or ensure your notebook will continue to use TensorFlow 1.x via the <code>%tensorflow_version 1.x</code> magic:\n",
              "<a href=\"https://colab.research.google.com/notebooks/tensorflow_version.ipynb\" target=\"_blank\">more info</a>.</p>\n"
            ],
            "text/plain": [
              "<IPython.core.display.HTML object>"
            ]
          },
          "metadata": {
            "tags": []
          }
        },
        {
          "output_type": "execute_result",
          "data": {
            "text/plain": [
              "'1.15.0'"
            ]
          },
          "metadata": {
            "tags": []
          },
          "execution_count": 5
        }
      ]
    },
    {
      "cell_type": "code",
      "metadata": {
        "id": "SJBYdXIhWWum",
        "colab_type": "code",
        "outputId": "9df25aec-00e8-4b9f-8b78-d6cec2b16dde",
        "colab": {
          "base_uri": "https://localhost:8080/",
          "height": 34
        }
      },
      "source": [
        "import numpy as np\n",
        "import os\n",
        "from os.path import isfile\n",
        "import keras\n",
        "from keras.models import Sequential, Model\n",
        "from keras.layers import Input, Dense, Bidirectional, LSTM, Dropout, Activation, GRU\n",
        "from keras.layers import Conv2D, concatenate, MaxPooling2D, Flatten, Embedding, Lambda\n",
        "\n",
        "\n",
        "from keras.callbacks import ModelCheckpoint, TensorBoard, ReduceLROnPlateau\n",
        "from keras import backend as K\n",
        "from keras.utils import np_utils\n",
        "from keras.optimizers import Adam, RMSprop\n",
        "\n",
        "from keras import regularizers\n",
        "\n",
        "\n",
        "import librosa\n",
        "import librosa.display\n",
        "import matplotlib.pyplot as plt\n",
        "%matplotlib inline"
      ],
      "execution_count": 0,
      "outputs": [
        {
          "output_type": "stream",
          "text": [
            "Using TensorFlow backend.\n"
          ],
          "name": "stderr"
        }
      ]
    },
    {
      "cell_type": "code",
      "metadata": {
        "id": "Uqidee64WZWZ",
        "colab_type": "code",
        "colab": {}
      },
      "source": [
        "BATCH_SIZE = 256\n",
        "EPOCH_COUNT = 100\n",
        "num_classes = 17\n",
        "n_features = x_train.shape[2]\n",
        "n_time = x_train.shape[1]"
      ],
      "execution_count": 0,
      "outputs": []
    },
    {
      "cell_type": "code",
      "metadata": {
        "id": "UnqGFqMpWbco",
        "colab_type": "code",
        "colab": {}
      },
      "source": [
        "nb_filters1=32 \n",
        "nb_filters2=32 \n",
        "nb_filters3=64\n",
        "nb_filters4=64\n",
        "nb_filters5=64\n",
        "\n",
        "ksize = (3,1)\n",
        "pool_size_1= (2,2) \n",
        "pool_size_2= (2,2)\n",
        "pool_size_3 = (4,2)\n",
        "\n",
        "dropout_prob = 0.20\n",
        "dense_size1 = 128\n",
        "lstm_count = 64\n",
        "num_units = 120\n",
        "\n",
        "L2_regularization = 0.001"
      ],
      "execution_count": 0,
      "outputs": []
    },
    {
      "cell_type": "code",
      "metadata": {
        "id": "-mhhWxZKWdyz",
        "colab_type": "code",
        "colab": {}
      },
      "source": [
        "def conv_recurrent_model_build(model_input):\n",
        "    print('Building model...')\n",
        "    layer = model_input\n",
        "    \n",
        "    ### Convolutional blocks\n",
        "    conv_1 = Conv2D(filters = nb_filters1, kernel_size = ksize, strides=1,\n",
        "                      padding= 'valid', activation='relu', name='conv_1')(layer)\n",
        "    pool_1 = MaxPooling2D(pool_size_1)(conv_1)\n",
        "\n",
        "    conv_2 = Conv2D(filters = nb_filters2, kernel_size = ksize, strides=1,\n",
        "                      padding= 'valid', activation='relu', name='conv_2')(pool_1)\n",
        "    pool_2 = MaxPooling2D(pool_size_1)(conv_2)\n",
        "\n",
        "    conv_3 = Conv2D(filters = nb_filters3, kernel_size = ksize, strides=1,\n",
        "                      padding= 'valid', activation='relu', name='conv_3')(pool_2)\n",
        "    pool_3 = MaxPooling2D(pool_size_1)(conv_3)\n",
        "    \n",
        "    \n",
        "    conv_4 = Conv2D(filters = nb_filters4, kernel_size = ksize, strides=1,\n",
        "                      padding= 'valid', activation='relu', name='conv_4')(pool_3)\n",
        "    pool_4 = MaxPooling2D(pool_size_2)(conv_4)\n",
        "    \n",
        "    \n",
        "    conv_5 = Conv2D(filters = nb_filters5, kernel_size = ksize, strides=1,\n",
        "                      padding= 'valid', activation='relu', name='conv_5')(pool_4)\n",
        "    pool_5 = MaxPooling2D(pool_size_2)(conv_5)\n",
        "\n",
        "    flatten1 = Flatten()(pool_5)\n",
        "    ### Recurrent Block\n",
        "    \n",
        "    # Pooling layer\n",
        "    pool_lstm1 = MaxPooling2D(pool_size_3, name = 'pool_lstm')(layer)\n",
        "    \n",
        "    # Embedding layer\n",
        "\n",
        "    squeezed = Lambda(lambda x: K.squeeze(x, axis= -1))(pool_lstm1)\n",
        "#     flatten2 = K.squeeze(pool_lstm1, axis = -1)\n",
        "#     dense1 = Dense(dense_size1)(flatten)\n",
        "    \n",
        "    # Bidirectional GRU\n",
        "    lstm = Bidirectional(GRU(lstm_count))(squeezed)  #default merge mode is concat\n",
        "    \n",
        "    # Concat Output\n",
        "    concat = concatenate([flatten1, lstm], axis=-1, name ='concat')\n",
        "    \n",
        "    ## Softmax Output\n",
        "    output = Dense(num_classes, activation = 'softmax', name='preds')(concat)\n",
        "    \n",
        "    model_output = output\n",
        "    model = Model(model_input, model_output)\n",
        "    \n",
        "    opt = Adam(lr=0.001)\n",
        "    # opt = RMSprop(lr=0.0005)  # Optimizer\n",
        "    model.compile(\n",
        "            loss='categorical_crossentropy',\n",
        "            optimizer=opt,\n",
        "            metrics=['accuracy']\n",
        "        )\n",
        "    \n",
        "    print(model.summary())\n",
        "    return model"
      ],
      "execution_count": 0,
      "outputs": []
    },
    {
      "cell_type": "code",
      "metadata": {
        "id": "L1qrgcF_WjYy",
        "colab_type": "code",
        "colab": {}
      },
      "source": [
        "def train_model(x_train, y_train, x_val, y_val):\n",
        "    \n",
        "    n_frequency = 128\n",
        "    n_frames = 640\n",
        "    #reshape and expand dims for conv2d\n",
        "#     x_train = x_train.reshape(-1, n_frequency, n_frames)\n",
        "    x_train = np.expand_dims(x_train, axis = -1)\n",
        "    \n",
        "#     x_val = x_val.reshape(-1, n_frequency, n_frames)\n",
        "    x_val = np.expand_dims(x_val, axis = -1)\n",
        "    \n",
        "    \n",
        "    input_shape = (n_frames, n_frequency, 1)\n",
        "    model_input = Input(input_shape, name='input')\n",
        "    \n",
        "    model = conv_recurrent_model_build(model_input)\n",
        "    \n",
        "#     tb_callback = TensorBoard(log_dir='./logs/4', histogram_freq=1, batch_size=32, write_graph=True, write_grads=False,\n",
        "#                               write_images=False, embeddings_freq=0, embeddings_layer_names=None,\n",
        "#                               embeddings_metadata=None)\n",
        "    checkpoint_callback = ModelCheckpoint('/content/drive/Shared drives/Artists!/model/weights.best_adam_n.h5', monitor='val_acc', verbose=1,\n",
        "                                          save_best_only=True, mode='max')\n",
        "    \n",
        "    reducelr_callback = ReduceLROnPlateau(\n",
        "                monitor='val_acc', factor=0.5, patience=10, min_delta=0.01,\n",
        "                verbose=1\n",
        "            )\n",
        "    callbacks_list = [checkpoint_callback, reducelr_callback]\n",
        "\n",
        "    # Fit the model and get training history.\n",
        "    print('Training...')\n",
        "    history = model.fit(x_train, y_train, batch_size=BATCH_SIZE, epochs=EPOCH_COUNT,\n",
        "                        validation_data=(x_val, y_val), verbose=1, callbacks=callbacks_list)\n",
        "\n",
        "    return model, history"
      ],
      "execution_count": 0,
      "outputs": []
    },
    {
      "cell_type": "code",
      "metadata": {
        "id": "loJGgI0dWos3",
        "colab_type": "code",
        "colab": {}
      },
      "source": [
        "def show_summary_stats(history):\n",
        "    # List all data in history\n",
        "    print(history.history.keys())\n",
        "\n",
        "    # Summarize history for accuracy\n",
        "    plt.plot(history.history['acc'])\n",
        "    plt.plot(history.history['val_acc'])\n",
        "    plt.title('model accuracy')\n",
        "    plt.ylabel('accuracy')\n",
        "    plt.xlabel('epoch')\n",
        "    plt.legend(['train', 'test'], loc='upper left')\n",
        "    plt.show()\n",
        "\n",
        "    # Summarize history for loss\n",
        "    plt.plot(history.history['loss'])\n",
        "    plt.plot(history.history['val_loss'])\n",
        "    plt.title('model loss')\n",
        "    plt.ylabel('loss')\n",
        "    plt.xlabel('epoch')\n",
        "    plt.legend(['train', 'test'], loc='upper left')\n",
        "    plt.show()"
      ],
      "execution_count": 0,
      "outputs": []
    },
    {
      "cell_type": "code",
      "metadata": {
        "id": "Bt1KO1mKWq97",
        "colab_type": "code",
        "outputId": "b16980af-ba8a-44b0-d8f4-96e7b389b8fe",
        "colab": {
          "base_uri": "https://localhost:8080/",
          "height": 1000
        }
      },
      "source": [
        "model, history  = train_model(x_train, y_train, x_val, y_val)"
      ],
      "execution_count": 0,
      "outputs": [
        {
          "output_type": "stream",
          "text": [
            "WARNING:tensorflow:From /usr/local/lib/python3.6/dist-packages/keras/backend/tensorflow_backend.py:541: The name tf.placeholder is deprecated. Please use tf.compat.v1.placeholder instead.\n",
            "\n",
            "Building model...\n",
            "WARNING:tensorflow:From /usr/local/lib/python3.6/dist-packages/keras/backend/tensorflow_backend.py:4432: The name tf.random_uniform is deprecated. Please use tf.random.uniform instead.\n",
            "\n",
            "WARNING:tensorflow:From /usr/local/lib/python3.6/dist-packages/keras/backend/tensorflow_backend.py:66: The name tf.get_default_graph is deprecated. Please use tf.compat.v1.get_default_graph instead.\n",
            "\n",
            "WARNING:tensorflow:From /usr/local/lib/python3.6/dist-packages/keras/backend/tensorflow_backend.py:4267: The name tf.nn.max_pool is deprecated. Please use tf.nn.max_pool2d instead.\n",
            "\n",
            "WARNING:tensorflow:From /usr/local/lib/python3.6/dist-packages/keras/optimizers.py:793: The name tf.train.Optimizer is deprecated. Please use tf.compat.v1.train.Optimizer instead.\n",
            "\n",
            "WARNING:tensorflow:From /usr/local/lib/python3.6/dist-packages/keras/backend/tensorflow_backend.py:3576: The name tf.log is deprecated. Please use tf.math.log instead.\n",
            "\n",
            "Model: \"model_1\"\n",
            "__________________________________________________________________________________________________\n",
            "Layer (type)                    Output Shape         Param #     Connected to                     \n",
            "==================================================================================================\n",
            "input (InputLayer)              (None, 640, 128, 1)  0                                            \n",
            "__________________________________________________________________________________________________\n",
            "conv_1 (Conv2D)                 (None, 638, 128, 32) 128         input[0][0]                      \n",
            "__________________________________________________________________________________________________\n",
            "max_pooling2d_1 (MaxPooling2D)  (None, 319, 64, 32)  0           conv_1[0][0]                     \n",
            "__________________________________________________________________________________________________\n",
            "conv_2 (Conv2D)                 (None, 317, 64, 32)  3104        max_pooling2d_1[0][0]            \n",
            "__________________________________________________________________________________________________\n",
            "max_pooling2d_2 (MaxPooling2D)  (None, 158, 32, 32)  0           conv_2[0][0]                     \n",
            "__________________________________________________________________________________________________\n",
            "conv_3 (Conv2D)                 (None, 156, 32, 64)  6208        max_pooling2d_2[0][0]            \n",
            "__________________________________________________________________________________________________\n",
            "max_pooling2d_3 (MaxPooling2D)  (None, 78, 16, 64)   0           conv_3[0][0]                     \n",
            "__________________________________________________________________________________________________\n",
            "conv_4 (Conv2D)                 (None, 76, 16, 64)   12352       max_pooling2d_3[0][0]            \n",
            "__________________________________________________________________________________________________\n",
            "max_pooling2d_4 (MaxPooling2D)  (None, 38, 8, 64)    0           conv_4[0][0]                     \n",
            "__________________________________________________________________________________________________\n",
            "conv_5 (Conv2D)                 (None, 36, 8, 64)    12352       max_pooling2d_4[0][0]            \n",
            "__________________________________________________________________________________________________\n",
            "pool_lstm (MaxPooling2D)        (None, 160, 64, 1)   0           input[0][0]                      \n",
            "__________________________________________________________________________________________________\n",
            "max_pooling2d_5 (MaxPooling2D)  (None, 18, 4, 64)    0           conv_5[0][0]                     \n",
            "__________________________________________________________________________________________________\n",
            "lambda_1 (Lambda)               (None, 160, 64)      0           pool_lstm[0][0]                  \n",
            "__________________________________________________________________________________________________\n",
            "flatten_1 (Flatten)             (None, 4608)         0           max_pooling2d_5[0][0]            \n",
            "__________________________________________________________________________________________________\n",
            "bidirectional_1 (Bidirectional) (None, 128)          49536       lambda_1[0][0]                   \n",
            "__________________________________________________________________________________________________\n",
            "concat (Concatenate)            (None, 4736)         0           flatten_1[0][0]                  \n",
            "                                                                 bidirectional_1[0][0]            \n",
            "__________________________________________________________________________________________________\n",
            "preds (Dense)                   (None, 17)           80529       concat[0][0]                     \n",
            "==================================================================================================\n",
            "Total params: 164,209\n",
            "Trainable params: 164,209\n",
            "Non-trainable params: 0\n",
            "__________________________________________________________________________________________________\n",
            "None\n",
            "Training...\n",
            "WARNING:tensorflow:From /usr/local/lib/python3.6/dist-packages/tensorflow_core/python/ops/math_grad.py:1424: where (from tensorflow.python.ops.array_ops) is deprecated and will be removed in a future version.\n",
            "Instructions for updating:\n",
            "Use tf.where in 2.0, which has the same broadcast rule as np.where\n",
            "WARNING:tensorflow:From /usr/local/lib/python3.6/dist-packages/keras/backend/tensorflow_backend.py:1033: The name tf.assign_add is deprecated. Please use tf.compat.v1.assign_add instead.\n",
            "\n",
            "WARNING:tensorflow:From /usr/local/lib/python3.6/dist-packages/keras/backend/tensorflow_backend.py:1020: The name tf.assign is deprecated. Please use tf.compat.v1.assign instead.\n",
            "\n",
            "WARNING:tensorflow:From /usr/local/lib/python3.6/dist-packages/keras/backend/tensorflow_backend.py:3005: The name tf.Session is deprecated. Please use tf.compat.v1.Session instead.\n",
            "\n",
            "Train on 6527 samples, validate on 814 samples\n",
            "Epoch 1/100\n",
            "WARNING:tensorflow:From /usr/local/lib/python3.6/dist-packages/keras/backend/tensorflow_backend.py:190: The name tf.get_default_session is deprecated. Please use tf.compat.v1.get_default_session instead.\n",
            "\n",
            "WARNING:tensorflow:From /usr/local/lib/python3.6/dist-packages/keras/backend/tensorflow_backend.py:197: The name tf.ConfigProto is deprecated. Please use tf.compat.v1.ConfigProto instead.\n",
            "\n",
            "WARNING:tensorflow:From /usr/local/lib/python3.6/dist-packages/keras/backend/tensorflow_backend.py:207: The name tf.global_variables is deprecated. Please use tf.compat.v1.global_variables instead.\n",
            "\n",
            "WARNING:tensorflow:From /usr/local/lib/python3.6/dist-packages/keras/backend/tensorflow_backend.py:216: The name tf.is_variable_initialized is deprecated. Please use tf.compat.v1.is_variable_initialized instead.\n",
            "\n",
            "WARNING:tensorflow:From /usr/local/lib/python3.6/dist-packages/keras/backend/tensorflow_backend.py:223: The name tf.variables_initializer is deprecated. Please use tf.compat.v1.variables_initializer instead.\n",
            "\n",
            "6527/6527 [==============================] - 50s 8ms/step - loss: 2.8035 - acc: 0.1123 - val_loss: 2.6898 - val_acc: 0.1867\n",
            "\n",
            "Epoch 00001: val_acc improved from -inf to 0.18673, saving model to /content/drive/Shared drives/Artists!/model/weights.best_adam_n.h5\n",
            "Epoch 2/100\n",
            "6527/6527 [==============================] - 37s 6ms/step - loss: 2.5581 - acc: 0.2001 - val_loss: 2.5388 - val_acc: 0.1658\n",
            "\n",
            "Epoch 00002: val_acc did not improve from 0.18673\n",
            "Epoch 3/100\n",
            "6527/6527 [==============================] - 36s 6ms/step - loss: 2.3430 - acc: 0.2438 - val_loss: 2.3165 - val_acc: 0.2678\n",
            "\n",
            "Epoch 00003: val_acc improved from 0.18673 to 0.26781, saving model to /content/drive/Shared drives/Artists!/model/weights.best_adam_n.h5\n",
            "Epoch 4/100\n",
            "6527/6527 [==============================] - 37s 6ms/step - loss: 2.2479 - acc: 0.2724 - val_loss: 2.2660 - val_acc: 0.2469\n",
            "\n",
            "Epoch 00004: val_acc did not improve from 0.26781\n",
            "Epoch 5/100\n",
            "6527/6527 [==============================] - 36s 6ms/step - loss: 2.1940 - acc: 0.2934 - val_loss: 2.1752 - val_acc: 0.3206\n",
            "\n",
            "Epoch 00005: val_acc improved from 0.26781 to 0.32064, saving model to /content/drive/Shared drives/Artists!/model/weights.best_adam_n.h5\n",
            "Epoch 6/100\n",
            "6527/6527 [==============================] - 36s 6ms/step - loss: 2.1323 - acc: 0.3158 - val_loss: 2.1397 - val_acc: 0.3243\n",
            "\n",
            "Epoch 00006: val_acc improved from 0.32064 to 0.32432, saving model to /content/drive/Shared drives/Artists!/model/weights.best_adam_n.h5\n",
            "Epoch 7/100\n",
            "6527/6527 [==============================] - 37s 6ms/step - loss: 2.1012 - acc: 0.3227 - val_loss: 2.1061 - val_acc: 0.3256\n",
            "\n",
            "Epoch 00007: val_acc improved from 0.32432 to 0.32555, saving model to /content/drive/Shared drives/Artists!/model/weights.best_adam_n.h5\n",
            "Epoch 8/100\n",
            "6527/6527 [==============================] - 37s 6ms/step - loss: 2.0713 - acc: 0.3383 - val_loss: 2.0780 - val_acc: 0.3489\n",
            "\n",
            "Epoch 00008: val_acc improved from 0.32555 to 0.34889, saving model to /content/drive/Shared drives/Artists!/model/weights.best_adam_n.h5\n",
            "Epoch 9/100\n",
            "6527/6527 [==============================] - 36s 6ms/step - loss: 2.0299 - acc: 0.3472 - val_loss: 2.0512 - val_acc: 0.3514\n",
            "\n",
            "Epoch 00009: val_acc improved from 0.34889 to 0.35135, saving model to /content/drive/Shared drives/Artists!/model/weights.best_adam_n.h5\n",
            "Epoch 10/100\n",
            "6527/6527 [==============================] - 36s 6ms/step - loss: 1.9914 - acc: 0.3600 - val_loss: 2.0170 - val_acc: 0.3661\n",
            "\n",
            "Epoch 00010: val_acc improved from 0.35135 to 0.36609, saving model to /content/drive/Shared drives/Artists!/model/weights.best_adam_n.h5\n",
            "Epoch 11/100\n",
            "6527/6527 [==============================] - 37s 6ms/step - loss: 1.9644 - acc: 0.3668 - val_loss: 2.0550 - val_acc: 0.3477\n",
            "\n",
            "Epoch 00011: val_acc did not improve from 0.36609\n",
            "Epoch 12/100\n",
            "6527/6527 [==============================] - 37s 6ms/step - loss: 1.9355 - acc: 0.3777 - val_loss: 1.9546 - val_acc: 0.3821\n",
            "\n",
            "Epoch 00012: val_acc improved from 0.36609 to 0.38206, saving model to /content/drive/Shared drives/Artists!/model/weights.best_adam_n.h5\n",
            "Epoch 13/100\n",
            "6527/6527 [==============================] - 36s 6ms/step - loss: 1.8741 - acc: 0.4011 - val_loss: 1.9304 - val_acc: 0.3980\n",
            "\n",
            "Epoch 00013: val_acc improved from 0.38206 to 0.39803, saving model to /content/drive/Shared drives/Artists!/model/weights.best_adam_n.h5\n",
            "Epoch 14/100\n",
            "6527/6527 [==============================] - 36s 6ms/step - loss: 1.8440 - acc: 0.4036 - val_loss: 1.8197 - val_acc: 0.4312\n",
            "\n",
            "Epoch 00014: val_acc improved from 0.39803 to 0.43120, saving model to /content/drive/Shared drives/Artists!/model/weights.best_adam_n.h5\n",
            "Epoch 15/100\n",
            "6527/6527 [==============================] - 37s 6ms/step - loss: 1.7914 - acc: 0.4235 - val_loss: 1.8377 - val_acc: 0.4201\n",
            "\n",
            "Epoch 00015: val_acc did not improve from 0.43120\n",
            "Epoch 16/100\n",
            "6527/6527 [==============================] - 37s 6ms/step - loss: 1.7220 - acc: 0.4474 - val_loss: 1.7700 - val_acc: 0.4582\n",
            "\n",
            "Epoch 00016: val_acc improved from 0.43120 to 0.45823, saving model to /content/drive/Shared drives/Artists!/model/weights.best_adam_n.h5\n",
            "Epoch 17/100\n",
            "6527/6527 [==============================] - 37s 6ms/step - loss: 1.6542 - acc: 0.4739 - val_loss: 1.6830 - val_acc: 0.4595\n",
            "\n",
            "Epoch 00017: val_acc improved from 0.45823 to 0.45946, saving model to /content/drive/Shared drives/Artists!/model/weights.best_adam_n.h5\n",
            "Epoch 18/100\n",
            "6527/6527 [==============================] - 37s 6ms/step - loss: 1.6017 - acc: 0.4901 - val_loss: 1.6510 - val_acc: 0.4717\n",
            "\n",
            "Epoch 00018: val_acc improved from 0.45946 to 0.47174, saving model to /content/drive/Shared drives/Artists!/model/weights.best_adam_n.h5\n",
            "Epoch 19/100\n",
            "6527/6527 [==============================] - 37s 6ms/step - loss: 1.5338 - acc: 0.5068 - val_loss: 1.6993 - val_acc: 0.4668\n",
            "\n",
            "Epoch 00019: val_acc did not improve from 0.47174\n",
            "Epoch 20/100\n",
            "6527/6527 [==============================] - 38s 6ms/step - loss: 1.4843 - acc: 0.5287 - val_loss: 1.5150 - val_acc: 0.5295\n",
            "\n",
            "Epoch 00020: val_acc improved from 0.47174 to 0.52948, saving model to /content/drive/Shared drives/Artists!/model/weights.best_adam_n.h5\n",
            "Epoch 21/100\n",
            "6527/6527 [==============================] - 37s 6ms/step - loss: 1.3752 - acc: 0.5525 - val_loss: 1.5367 - val_acc: 0.5233\n",
            "\n",
            "Epoch 00021: val_acc did not improve from 0.52948\n",
            "Epoch 22/100\n",
            "6527/6527 [==============================] - 38s 6ms/step - loss: 1.3112 - acc: 0.5782 - val_loss: 1.4149 - val_acc: 0.5590\n",
            "\n",
            "Epoch 00022: val_acc improved from 0.52948 to 0.55897, saving model to /content/drive/Shared drives/Artists!/model/weights.best_adam_n.h5\n",
            "Epoch 23/100\n",
            "6527/6527 [==============================] - 37s 6ms/step - loss: 1.1833 - acc: 0.6259 - val_loss: 1.3329 - val_acc: 0.5848\n",
            "\n",
            "Epoch 00023: val_acc improved from 0.55897 to 0.58477, saving model to /content/drive/Shared drives/Artists!/model/weights.best_adam_n.h5\n",
            "Epoch 24/100\n",
            "6527/6527 [==============================] - 38s 6ms/step - loss: 1.0991 - acc: 0.6462 - val_loss: 1.3253 - val_acc: 0.6118\n",
            "\n",
            "Epoch 00024: val_acc improved from 0.58477 to 0.61179, saving model to /content/drive/Shared drives/Artists!/model/weights.best_adam_n.h5\n",
            "Epoch 25/100\n",
            "6527/6527 [==============================] - 37s 6ms/step - loss: 1.0173 - acc: 0.6734 - val_loss: 1.3161 - val_acc: 0.6192\n",
            "\n",
            "Epoch 00025: val_acc improved from 0.61179 to 0.61916, saving model to /content/drive/Shared drives/Artists!/model/weights.best_adam_n.h5\n",
            "Epoch 26/100\n",
            "6527/6527 [==============================] - 38s 6ms/step - loss: 0.9534 - acc: 0.6976 - val_loss: 1.1840 - val_acc: 0.6744\n",
            "\n",
            "Epoch 00026: val_acc improved from 0.61916 to 0.67445, saving model to /content/drive/Shared drives/Artists!/model/weights.best_adam_n.h5\n",
            "Epoch 27/100\n",
            "6527/6527 [==============================] - 38s 6ms/step - loss: 0.8296 - acc: 0.7392 - val_loss: 1.1496 - val_acc: 0.6990\n",
            "\n",
            "Epoch 00027: val_acc improved from 0.67445 to 0.69902, saving model to /content/drive/Shared drives/Artists!/model/weights.best_adam_n.h5\n",
            "Epoch 28/100\n",
            "6527/6527 [==============================] - 38s 6ms/step - loss: 0.7692 - acc: 0.7555 - val_loss: 1.0411 - val_acc: 0.7359\n",
            "\n",
            "Epoch 00028: val_acc improved from 0.69902 to 0.73587, saving model to /content/drive/Shared drives/Artists!/model/weights.best_adam_n.h5\n",
            "Epoch 29/100\n",
            "6527/6527 [==============================] - 37s 6ms/step - loss: 0.6266 - acc: 0.8123 - val_loss: 1.0469 - val_acc: 0.7359\n",
            "\n",
            "Epoch 00029: val_acc did not improve from 0.73587\n",
            "Epoch 30/100\n",
            "6527/6527 [==============================] - 38s 6ms/step - loss: 0.6173 - acc: 0.8086 - val_loss: 1.1286 - val_acc: 0.7346\n",
            "\n",
            "Epoch 00030: val_acc did not improve from 0.73587\n",
            "Epoch 31/100\n",
            "6527/6527 [==============================] - 37s 6ms/step - loss: 0.5127 - acc: 0.8535 - val_loss: 1.0117 - val_acc: 0.7678\n",
            "\n",
            "Epoch 00031: val_acc improved from 0.73587 to 0.76781, saving model to /content/drive/Shared drives/Artists!/model/weights.best_adam_n.h5\n",
            "Epoch 32/100\n",
            "6527/6527 [==============================] - 37s 6ms/step - loss: 0.4404 - acc: 0.8730 - val_loss: 0.9988 - val_acc: 0.7948\n",
            "\n",
            "Epoch 00032: val_acc improved from 0.76781 to 0.79484, saving model to /content/drive/Shared drives/Artists!/model/weights.best_adam_n.h5\n",
            "Epoch 33/100\n",
            "6527/6527 [==============================] - 37s 6ms/step - loss: 0.3655 - acc: 0.8981 - val_loss: 1.0045 - val_acc: 0.8034\n",
            "\n",
            "Epoch 00033: val_acc improved from 0.79484 to 0.80344, saving model to /content/drive/Shared drives/Artists!/model/weights.best_adam_n.h5\n",
            "Epoch 34/100\n",
            "6527/6527 [==============================] - 37s 6ms/step - loss: 0.3216 - acc: 0.9111 - val_loss: 0.9981 - val_acc: 0.8096\n",
            "\n",
            "Epoch 00034: val_acc improved from 0.80344 to 0.80958, saving model to /content/drive/Shared drives/Artists!/model/weights.best_adam_n.h5\n",
            "Epoch 35/100\n",
            "6527/6527 [==============================] - 37s 6ms/step - loss: 0.2996 - acc: 0.9191 - val_loss: 0.9994 - val_acc: 0.8170\n",
            "\n",
            "Epoch 00035: val_acc improved from 0.80958 to 0.81695, saving model to /content/drive/Shared drives/Artists!/model/weights.best_adam_n.h5\n",
            "Epoch 36/100\n",
            "6527/6527 [==============================] - 37s 6ms/step - loss: 0.2462 - acc: 0.9355 - val_loss: 1.0292 - val_acc: 0.8084\n",
            "\n",
            "Epoch 00036: val_acc did not improve from 0.81695\n",
            "Epoch 37/100\n",
            "6527/6527 [==============================] - 37s 6ms/step - loss: 0.2095 - acc: 0.9453 - val_loss: 1.0133 - val_acc: 0.8440\n",
            "\n",
            "Epoch 00037: val_acc improved from 0.81695 to 0.84398, saving model to /content/drive/Shared drives/Artists!/model/weights.best_adam_n.h5\n",
            "Epoch 38/100\n",
            "6527/6527 [==============================] - 37s 6ms/step - loss: 0.1613 - acc: 0.9609 - val_loss: 0.9936 - val_acc: 0.8538\n",
            "\n",
            "Epoch 00038: val_acc improved from 0.84398 to 0.85381, saving model to /content/drive/Shared drives/Artists!/model/weights.best_adam_n.h5\n",
            "Epoch 39/100\n",
            "6527/6527 [==============================] - 37s 6ms/step - loss: 0.1334 - acc: 0.9698 - val_loss: 0.9710 - val_acc: 0.8501\n",
            "\n",
            "Epoch 00039: val_acc did not improve from 0.85381\n",
            "Epoch 40/100\n",
            "6527/6527 [==============================] - 37s 6ms/step - loss: 0.1197 - acc: 0.9758 - val_loss: 1.0010 - val_acc: 0.8710\n",
            "\n",
            "Epoch 00040: val_acc improved from 0.85381 to 0.87101, saving model to /content/drive/Shared drives/Artists!/model/weights.best_adam_n.h5\n",
            "Epoch 41/100\n",
            "6527/6527 [==============================] - 37s 6ms/step - loss: 0.1031 - acc: 0.9795 - val_loss: 1.0607 - val_acc: 0.8575\n",
            "\n",
            "Epoch 00041: val_acc did not improve from 0.87101\n",
            "Epoch 42/100\n",
            "6527/6527 [==============================] - 37s 6ms/step - loss: 0.1454 - acc: 0.9626 - val_loss: 1.2525 - val_acc: 0.8022\n",
            "\n",
            "Epoch 00042: val_acc did not improve from 0.87101\n",
            "Epoch 43/100\n",
            "6527/6527 [==============================] - 37s 6ms/step - loss: 0.1561 - acc: 0.9556 - val_loss: 1.0853 - val_acc: 0.8526\n",
            "\n",
            "Epoch 00043: val_acc did not improve from 0.87101\n",
            "Epoch 44/100\n",
            "6527/6527 [==============================] - 37s 6ms/step - loss: 0.0861 - acc: 0.9854 - val_loss: 1.0616 - val_acc: 0.8636\n",
            "\n",
            "Epoch 00044: val_acc did not improve from 0.87101\n",
            "Epoch 45/100\n",
            "6527/6527 [==============================] - 36s 5ms/step - loss: 0.0637 - acc: 0.9887 - val_loss: 1.0913 - val_acc: 0.8612\n",
            "\n",
            "Epoch 00045: val_acc did not improve from 0.87101\n",
            "Epoch 46/100\n",
            "6527/6527 [==============================] - 36s 6ms/step - loss: 0.0522 - acc: 0.9917 - val_loss: 1.1204 - val_acc: 0.8661\n",
            "\n",
            "Epoch 00046: val_acc did not improve from 0.87101\n",
            "Epoch 47/100\n",
            "6527/6527 [==============================] - 36s 6ms/step - loss: 0.0468 - acc: 0.9934 - val_loss: 1.1396 - val_acc: 0.8649\n",
            "\n",
            "Epoch 00047: val_acc did not improve from 0.87101\n",
            "Epoch 48/100\n",
            "6527/6527 [==============================] - 36s 6ms/step - loss: 0.0328 - acc: 0.9959 - val_loss: 1.1462 - val_acc: 0.8686\n",
            "\n",
            "Epoch 00048: val_acc did not improve from 0.87101\n",
            "Epoch 49/100\n",
            "6527/6527 [==============================] - 36s 6ms/step - loss: 0.0276 - acc: 0.9971 - val_loss: 1.1693 - val_acc: 0.8698\n",
            "\n",
            "Epoch 00049: val_acc did not improve from 0.87101\n",
            "Epoch 50/100\n",
            "6527/6527 [==============================] - 37s 6ms/step - loss: 0.0247 - acc: 0.9972 - val_loss: 1.1698 - val_acc: 0.8722\n",
            "\n",
            "Epoch 00050: val_acc improved from 0.87101 to 0.87224, saving model to /content/drive/Shared drives/Artists!/model/weights.best_adam_n.h5\n",
            "\n",
            "Epoch 00050: ReduceLROnPlateau reducing learning rate to 0.0005000000237487257.\n",
            "Epoch 51/100\n",
            "6527/6527 [==============================] - 37s 6ms/step - loss: 0.0166 - acc: 0.9974 - val_loss: 1.1943 - val_acc: 0.8698\n",
            "\n",
            "Epoch 00051: val_acc did not improve from 0.87224\n",
            "Epoch 52/100\n",
            "6527/6527 [==============================] - 37s 6ms/step - loss: 0.0150 - acc: 0.9977 - val_loss: 1.1979 - val_acc: 0.8661\n",
            "\n",
            "Epoch 00052: val_acc did not improve from 0.87224\n",
            "Epoch 53/100\n",
            "6527/6527 [==============================] - 37s 6ms/step - loss: 0.0163 - acc: 0.9979 - val_loss: 1.2010 - val_acc: 0.8686\n",
            "\n",
            "Epoch 00053: val_acc did not improve from 0.87224\n",
            "Epoch 54/100\n",
            "6527/6527 [==============================] - 36s 6ms/step - loss: 0.0173 - acc: 0.9974 - val_loss: 1.2147 - val_acc: 0.8673\n",
            "\n",
            "Epoch 00054: val_acc did not improve from 0.87224\n",
            "Epoch 55/100\n",
            "6527/6527 [==============================] - 37s 6ms/step - loss: 0.0138 - acc: 0.9980 - val_loss: 1.1997 - val_acc: 0.8686\n",
            "\n",
            "Epoch 00055: val_acc did not improve from 0.87224\n",
            "Epoch 56/100\n",
            "6527/6527 [==============================] - 37s 6ms/step - loss: 0.0137 - acc: 0.9979 - val_loss: 1.2004 - val_acc: 0.8710\n",
            "\n",
            "Epoch 00056: val_acc did not improve from 0.87224\n",
            "Epoch 57/100\n",
            "6527/6527 [==============================] - 38s 6ms/step - loss: 0.0127 - acc: 0.9986 - val_loss: 1.2189 - val_acc: 0.8686\n",
            "\n",
            "Epoch 00057: val_acc did not improve from 0.87224\n",
            "Epoch 58/100\n",
            "6527/6527 [==============================] - 38s 6ms/step - loss: 0.0133 - acc: 0.9985 - val_loss: 1.2237 - val_acc: 0.8686\n",
            "\n",
            "Epoch 00058: val_acc did not improve from 0.87224\n",
            "Epoch 59/100\n",
            "6527/6527 [==============================] - 38s 6ms/step - loss: 0.0112 - acc: 0.9980 - val_loss: 1.2126 - val_acc: 0.8698\n",
            "\n",
            "Epoch 00059: val_acc did not improve from 0.87224\n",
            "Epoch 60/100\n",
            "6527/6527 [==============================] - 38s 6ms/step - loss: 0.0131 - acc: 0.9983 - val_loss: 1.2236 - val_acc: 0.8722\n",
            "\n",
            "Epoch 00060: val_acc did not improve from 0.87224\n",
            "\n",
            "Epoch 00060: ReduceLROnPlateau reducing learning rate to 0.0002500000118743628.\n",
            "Epoch 61/100\n",
            "6527/6527 [==============================] - 38s 6ms/step - loss: 0.0095 - acc: 0.9982 - val_loss: 1.2285 - val_acc: 0.8686\n",
            "\n",
            "Epoch 00061: val_acc did not improve from 0.87224\n",
            "Epoch 62/100\n",
            "6527/6527 [==============================] - 38s 6ms/step - loss: 0.0091 - acc: 0.9982 - val_loss: 1.2296 - val_acc: 0.8698\n",
            "\n",
            "Epoch 00062: val_acc did not improve from 0.87224\n",
            "Epoch 63/100\n",
            "6527/6527 [==============================] - 38s 6ms/step - loss: 0.0088 - acc: 0.9979 - val_loss: 1.2350 - val_acc: 0.8698\n",
            "\n",
            "Epoch 00063: val_acc did not improve from 0.87224\n",
            "Epoch 64/100\n",
            "6527/6527 [==============================] - 38s 6ms/step - loss: 0.0083 - acc: 0.9985 - val_loss: 1.2300 - val_acc: 0.8710\n",
            "\n",
            "Epoch 00064: val_acc did not improve from 0.87224\n",
            "Epoch 65/100\n",
            "6527/6527 [==============================] - 38s 6ms/step - loss: 0.0078 - acc: 0.9985 - val_loss: 1.2389 - val_acc: 0.8698\n",
            "\n",
            "Epoch 00065: val_acc did not improve from 0.87224\n",
            "Epoch 66/100\n",
            "6527/6527 [==============================] - 38s 6ms/step - loss: 0.0085 - acc: 0.9983 - val_loss: 1.2368 - val_acc: 0.8698\n",
            "\n",
            "Epoch 00066: val_acc did not improve from 0.87224\n",
            "Epoch 67/100\n",
            "6527/6527 [==============================] - 37s 6ms/step - loss: 0.0109 - acc: 0.9983 - val_loss: 1.2417 - val_acc: 0.8686\n",
            "\n",
            "Epoch 00067: val_acc did not improve from 0.87224\n",
            "Epoch 68/100\n",
            "6527/6527 [==============================] - 38s 6ms/step - loss: 0.0095 - acc: 0.9986 - val_loss: 1.2493 - val_acc: 0.8722\n",
            "\n",
            "Epoch 00068: val_acc did not improve from 0.87224\n",
            "Epoch 69/100\n",
            "6527/6527 [==============================] - 38s 6ms/step - loss: 0.0101 - acc: 0.9980 - val_loss: 1.2467 - val_acc: 0.8722\n",
            "\n",
            "Epoch 00069: val_acc did not improve from 0.87224\n",
            "Epoch 70/100\n",
            "6527/6527 [==============================] - 37s 6ms/step - loss: 0.0094 - acc: 0.9982 - val_loss: 1.2358 - val_acc: 0.8722\n",
            "\n",
            "Epoch 00070: val_acc did not improve from 0.87224\n",
            "\n",
            "Epoch 00070: ReduceLROnPlateau reducing learning rate to 0.0001250000059371814.\n",
            "Epoch 71/100\n",
            "6527/6527 [==============================] - 37s 6ms/step - loss: 0.0073 - acc: 0.9983 - val_loss: 1.2455 - val_acc: 0.8686\n",
            "\n",
            "Epoch 00071: val_acc did not improve from 0.87224\n",
            "Epoch 72/100\n",
            "6527/6527 [==============================] - 37s 6ms/step - loss: 0.0067 - acc: 0.9980 - val_loss: 1.2466 - val_acc: 0.8698\n",
            "\n",
            "Epoch 00072: val_acc did not improve from 0.87224\n",
            "Epoch 73/100\n",
            "6527/6527 [==============================] - 38s 6ms/step - loss: 0.0069 - acc: 0.9980 - val_loss: 1.2461 - val_acc: 0.8698\n",
            "\n",
            "Epoch 00073: val_acc did not improve from 0.87224\n",
            "Epoch 74/100\n",
            "6527/6527 [==============================] - 38s 6ms/step - loss: 0.0074 - acc: 0.9980 - val_loss: 1.2493 - val_acc: 0.8698\n",
            "\n",
            "Epoch 00074: val_acc did not improve from 0.87224\n",
            "Epoch 75/100\n",
            "6527/6527 [==============================] - 38s 6ms/step - loss: 0.0068 - acc: 0.9983 - val_loss: 1.2476 - val_acc: 0.8710\n",
            "\n",
            "Epoch 00075: val_acc did not improve from 0.87224\n",
            "Epoch 76/100\n",
            "6527/6527 [==============================] - 38s 6ms/step - loss: 0.0066 - acc: 0.9986 - val_loss: 1.2512 - val_acc: 0.8698\n",
            "\n",
            "Epoch 00076: val_acc did not improve from 0.87224\n",
            "Epoch 77/100\n",
            "6527/6527 [==============================] - 37s 6ms/step - loss: 0.0083 - acc: 0.9979 - val_loss: 1.2520 - val_acc: 0.8710\n",
            "\n",
            "Epoch 00077: val_acc did not improve from 0.87224\n",
            "Epoch 78/100\n",
            "6527/6527 [==============================] - 37s 6ms/step - loss: 0.0060 - acc: 0.9985 - val_loss: 1.2500 - val_acc: 0.8698\n",
            "\n",
            "Epoch 00078: val_acc did not improve from 0.87224\n",
            "Epoch 79/100\n",
            "6527/6527 [==============================] - 37s 6ms/step - loss: 0.0071 - acc: 0.9982 - val_loss: 1.2559 - val_acc: 0.8698\n",
            "\n",
            "Epoch 00079: val_acc did not improve from 0.87224\n",
            "Epoch 80/100\n",
            "6527/6527 [==============================] - 37s 6ms/step - loss: 0.0062 - acc: 0.9983 - val_loss: 1.2537 - val_acc: 0.8698\n",
            "\n",
            "Epoch 00080: val_acc did not improve from 0.87224\n",
            "\n",
            "Epoch 00080: ReduceLROnPlateau reducing learning rate to 6.25000029685907e-05.\n",
            "Epoch 81/100\n",
            "6527/6527 [==============================] - 37s 6ms/step - loss: 0.0068 - acc: 0.9985 - val_loss: 1.2549 - val_acc: 0.8710\n",
            "\n",
            "Epoch 00081: val_acc did not improve from 0.87224\n",
            "Epoch 82/100\n",
            "6527/6527 [==============================] - 38s 6ms/step - loss: 0.0059 - acc: 0.9983 - val_loss: 1.2534 - val_acc: 0.8698\n",
            "\n",
            "Epoch 00082: val_acc did not improve from 0.87224\n",
            "Epoch 83/100\n",
            "6527/6527 [==============================] - 38s 6ms/step - loss: 0.0059 - acc: 0.9982 - val_loss: 1.2540 - val_acc: 0.8710\n",
            "\n",
            "Epoch 00083: val_acc did not improve from 0.87224\n",
            "Epoch 84/100\n",
            "6527/6527 [==============================] - 37s 6ms/step - loss: 0.0061 - acc: 0.9979 - val_loss: 1.2556 - val_acc: 0.8698\n",
            "\n",
            "Epoch 00084: val_acc did not improve from 0.87224\n",
            "Epoch 85/100\n",
            "6527/6527 [==============================] - 38s 6ms/step - loss: 0.0059 - acc: 0.9983 - val_loss: 1.2557 - val_acc: 0.8698\n",
            "\n",
            "Epoch 00085: val_acc did not improve from 0.87224\n",
            "Epoch 86/100\n",
            "6527/6527 [==============================] - 37s 6ms/step - loss: 0.0059 - acc: 0.9982 - val_loss: 1.2565 - val_acc: 0.8710\n",
            "\n",
            "Epoch 00086: val_acc did not improve from 0.87224\n",
            "Epoch 87/100\n",
            "6527/6527 [==============================] - 37s 6ms/step - loss: 0.0059 - acc: 0.9980 - val_loss: 1.2581 - val_acc: 0.8710\n",
            "\n",
            "Epoch 00087: val_acc did not improve from 0.87224\n",
            "Epoch 88/100\n",
            "6527/6527 [==============================] - 37s 6ms/step - loss: 0.0059 - acc: 0.9983 - val_loss: 1.2575 - val_acc: 0.8698\n",
            "\n",
            "Epoch 00088: val_acc did not improve from 0.87224\n",
            "Epoch 89/100\n",
            "6527/6527 [==============================] - 37s 6ms/step - loss: 0.0058 - acc: 0.9979 - val_loss: 1.2574 - val_acc: 0.8710\n",
            "\n",
            "Epoch 00089: val_acc did not improve from 0.87224\n",
            "Epoch 90/100\n",
            "6527/6527 [==============================] - 37s 6ms/step - loss: 0.0059 - acc: 0.9979 - val_loss: 1.2588 - val_acc: 0.8710\n",
            "\n",
            "Epoch 00090: val_acc did not improve from 0.87224\n",
            "\n",
            "Epoch 00090: ReduceLROnPlateau reducing learning rate to 3.125000148429535e-05.\n",
            "Epoch 91/100\n",
            "6527/6527 [==============================] - 37s 6ms/step - loss: 0.0055 - acc: 0.9986 - val_loss: 1.2590 - val_acc: 0.8710\n",
            "\n",
            "Epoch 00091: val_acc did not improve from 0.87224\n",
            "Epoch 92/100\n",
            "6527/6527 [==============================] - 37s 6ms/step - loss: 0.0055 - acc: 0.9979 - val_loss: 1.2591 - val_acc: 0.8710\n",
            "\n",
            "Epoch 00092: val_acc did not improve from 0.87224\n",
            "Epoch 93/100\n",
            "6527/6527 [==============================] - 37s 6ms/step - loss: 0.0056 - acc: 0.9982 - val_loss: 1.2592 - val_acc: 0.8710\n",
            "\n",
            "Epoch 00093: val_acc did not improve from 0.87224\n",
            "Epoch 94/100\n",
            "6527/6527 [==============================] - 37s 6ms/step - loss: 0.0056 - acc: 0.9983 - val_loss: 1.2597 - val_acc: 0.8698\n",
            "\n",
            "Epoch 00094: val_acc did not improve from 0.87224\n",
            "Epoch 95/100\n",
            "6527/6527 [==============================] - 37s 6ms/step - loss: 0.0055 - acc: 0.9979 - val_loss: 1.2599 - val_acc: 0.8710\n",
            "\n",
            "Epoch 00095: val_acc did not improve from 0.87224\n",
            "Epoch 96/100\n",
            "6527/6527 [==============================] - 37s 6ms/step - loss: 0.0054 - acc: 0.9979 - val_loss: 1.2604 - val_acc: 0.8710\n",
            "\n",
            "Epoch 00096: val_acc did not improve from 0.87224\n",
            "Epoch 97/100\n",
            "6527/6527 [==============================] - 37s 6ms/step - loss: 0.0054 - acc: 0.9979 - val_loss: 1.2605 - val_acc: 0.8710\n",
            "\n",
            "Epoch 00097: val_acc did not improve from 0.87224\n",
            "Epoch 98/100\n",
            "6527/6527 [==============================] - 37s 6ms/step - loss: 0.0055 - acc: 0.9982 - val_loss: 1.2604 - val_acc: 0.8710\n",
            "\n",
            "Epoch 00098: val_acc did not improve from 0.87224\n",
            "Epoch 99/100\n",
            "6527/6527 [==============================] - 37s 6ms/step - loss: 0.0054 - acc: 0.9979 - val_loss: 1.2612 - val_acc: 0.8710\n",
            "\n",
            "Epoch 00099: val_acc did not improve from 0.87224\n",
            "Epoch 100/100\n",
            "6527/6527 [==============================] - 37s 6ms/step - loss: 0.0054 - acc: 0.9982 - val_loss: 1.2615 - val_acc: 0.8710\n",
            "\n",
            "Epoch 00100: val_acc did not improve from 0.87224\n",
            "\n",
            "Epoch 00100: ReduceLROnPlateau reducing learning rate to 1.5625000742147677e-05.\n"
          ],
          "name": "stdout"
        }
      ]
    },
    {
      "cell_type": "code",
      "metadata": {
        "id": "Rxjlkl6If9PM",
        "colab_type": "code",
        "outputId": "c0df0f7e-2175-4c7c-85cd-d34bfe88db9e",
        "colab": {
          "base_uri": "https://localhost:8080/",
          "height": 591
        }
      },
      "source": [
        "show_summary_stats(history)\n"
      ],
      "execution_count": 0,
      "outputs": [
        {
          "output_type": "stream",
          "text": [
            "dict_keys(['val_loss', 'val_acc', 'loss', 'acc', 'lr'])\n"
          ],
          "name": "stdout"
        },
        {
          "output_type": "display_data",
          "data": {
            "image/png": "[encoded data removed]",
            "text/plain": [
              "<Figure size 432x288 with 1 Axes>"
            ]
          },
          "metadata": {
            "tags": []
          }
        },
        {
          "output_type": "display_data",
          "data": {
            "image/png": "[encoded data removed]",
            "text/plain": [
              "<Figure size 432x288 with 1 Axes>"
            ]
          },
          "metadata": {
            "tags": []
          }
        }
      ]
    },
    {
      "cell_type": "code",
      "metadata": {
        "id": "8-BMxezsgFsD",
        "colab_type": "code",
        "outputId": "e649e093-f762-4a77-9915-926b2ea45211",
        "colab": {
          "base_uri": "https://localhost:8080/",
          "height": 461
        }
      },
      "source": [
        "from sklearn.metrics import classification_report\n",
        "y_true = np.argmax(y_val, axis = 1)\n",
        "x_valid = np.expand_dims(x_val, axis = -1)\n",
        "y_pred = model.predict(x_valid)\n",
        "y_pred = np.argmax(y_pred, axis=1)\n",
        "# target_names = ['2', '4','5','10','12','15','17','18','21','25','26','38','181','182','297','468','1235']\n",
        "target_names = ['International', 'Jazz','Classical','Pop','Rock','Electronic','Folk','Soundtrack','Hip-Hop','Punk','Post-Rock','Experimental','Techno','House','Chip Music','Dubstep','Instrumental']\n",
        "\n",
        "\n",
        "print(y_true.shape, y_pred.shape)\n",
        "print(classification_report(y_true, y_pred, target_names=target_names))\n"
      ],
      "execution_count": 0,
      "outputs": [
        {
          "output_type": "stream",
          "text": [
            "(814,) (814,)\n",
            "               precision    recall  f1-score   support\n",
            "\n",
            "International       0.84      0.89      0.86        53\n",
            "         Jazz       0.89      0.89      0.89        44\n",
            "    Classical       0.84      0.93      0.88        45\n",
            "          Pop       0.75      0.81      0.78        63\n",
            "         Rock       0.87      0.76      0.81        51\n",
            "   Electronic       0.83      0.83      0.83        53\n",
            "         Folk       0.90      0.88      0.89        50\n",
            "   Soundtrack       0.88      0.94      0.91        48\n",
            "      Hip-Hop       0.88      0.84      0.86        44\n",
            "         Punk       0.83      0.87      0.85        52\n",
            "    Post-Rock       0.93      0.91      0.92        45\n",
            " Experimental       0.93      0.88      0.91        49\n",
            "       Techno       0.90      0.87      0.89        54\n",
            "        House       0.92      0.87      0.89        39\n",
            "   Chip Music       0.96      0.88      0.92        50\n",
            "      Dubstep       0.86      0.88      0.87        34\n",
            " Instrumental       0.88      0.93      0.90        40\n",
            "\n",
            "     accuracy                           0.87       814\n",
            "    macro avg       0.88      0.87      0.87       814\n",
            " weighted avg       0.87      0.87      0.87       814\n",
            "\n"
          ],
          "name": "stdout"
        }
      ]
    },
    {
      "cell_type": "code",
      "metadata": {
        "id": "10FmuJ_fjiDe",
        "colab_type": "code",
        "outputId": "cbcc8788-56ef-4d2a-9be4-b3ab46e439e6",
        "colab": {
          "base_uri": "https://localhost:8080/",
          "height": 34
        }
      },
      "source": [
        "from sklearn.metrics import accuracy_score\n",
        "\n",
        "print(accuracy_score(y_true, y_pred))"
      ],
      "execution_count": 0,
      "outputs": [
        {
          "output_type": "stream",
          "text": [
            "0.871007371007371\n"
          ],
          "name": "stdout"
        }
      ]
    },
    {
      "cell_type": "markdown",
      "metadata": {
        "id": "vw5V5acHjzzN",
        "colab_type": "text"
      },
      "source": [
        "TEST"
      ]
    },
    {
      "cell_type": "code",
      "metadata": {
        "id": "mWCXzW98jF8r",
        "colab_type": "code",
        "colab": {}
      },
      "source": [
        "# test = np.load('/content/drive/Shared drives/Artists!/data_modified/test_log.npz')\n",
        "# x_test = test['arr_0']\n",
        "# y_test = test['arr_1']\n",
        "# print(x_test.shape,y_test.shape)"
      ],
      "execution_count": 0,
      "outputs": []
    },
    {
      "cell_type": "code",
      "metadata": {
        "id": "NKP2IxY1j228",
        "colab_type": "code",
        "colab": {}
      },
      "source": [
        "from keras.models import load_model\n",
        "weights_path = '/content/drive/Shared drives/Artists!/model/weights.best_adam_n.h5'\n",
        "model_log = load_model(weights_path)"
      ],
      "execution_count": 0,
      "outputs": []
    },
    {
      "cell_type": "code",
      "metadata": {
        "id": "Nh_F3sjNj7ct",
        "colab_type": "code",
        "colab": {}
      },
      "source": [
        "import pandas as pd\n",
        "y_test_one = np.array(pd.get_dummies(y_test))"
      ],
      "execution_count": 0,
      "outputs": []
    },
    {
      "cell_type": "code",
      "metadata": {
        "id": "axGx4DIAksqI",
        "colab_type": "code",
        "outputId": "d91932ee-be8d-42f6-ca8f-01a697a2775d",
        "colab": {
          "base_uri": "https://localhost:8080/",
          "height": 34
        }
      },
      "source": [
        "print(y_test_one.shape)"
      ],
      "execution_count": 0,
      "outputs": [
        {
          "output_type": "stream",
          "text": [
            "(823, 17)\n"
          ],
          "name": "stdout"
        }
      ]
    },
    {
      "cell_type": "code",
      "metadata": {
        "id": "QTAAN3cfkhwx",
        "colab_type": "code",
        "outputId": "efc106a2-0c29-462c-9f23-abf8c4900703",
        "colab": {
          "base_uri": "https://localhost:8080/",
          "height": 461
        }
      },
      "source": [
        "from sklearn.metrics import classification_report\n",
        "\n",
        "y_true = np.argmax(y_test_one, axis=1)\n",
        "x_test = np.expand_dims(x_test, axis = -1)\n",
        "y_pred = model_log.predict(x_test)\n",
        "y_pred = np.argmax(y_pred, axis=1)\n",
        "# target_names = ['2', '4','5','10','12','15','17','18','21','25','26','38','181','182','297','468','1235']\n",
        "target_names = ['International', 'Jazz','Classical','Pop','Rock','Electronic','Folk','Soundtrack','Hip-Hop','Punk','Post-Rock','Experimental','Techno','House','Chip Music','Dubstep','Instrumental']\n",
        "\n",
        "\n",
        "print(y_true.shape, y_pred.shape)\n",
        "print(classification_report(y_true, y_pred, target_names=target_names))"
      ],
      "execution_count": 0,
      "outputs": [
        {
          "output_type": "stream",
          "text": [
            "(823,) (823,)\n",
            "               precision    recall  f1-score   support\n",
            "\n",
            "International       0.96      0.96      0.96        56\n",
            "         Jazz       0.77      0.79      0.78        29\n",
            "    Classical       0.94      0.92      0.93        51\n",
            "          Pop       0.85      0.84      0.85        49\n",
            "         Rock       0.84      0.90      0.87        59\n",
            "   Electronic       0.93      0.76      0.84        50\n",
            "         Folk       0.86      0.82      0.84        51\n",
            "   Soundtrack       0.85      0.85      0.85        54\n",
            "      Hip-Hop       0.96      0.90      0.93        51\n",
            "         Punk       0.86      0.96      0.91        53\n",
            "    Post-Rock       0.91      0.84      0.88        38\n",
            " Experimental       0.82      0.82      0.82        50\n",
            "       Techno       0.90      0.86      0.88        44\n",
            "        House       0.82      0.90      0.86        40\n",
            "   Chip Music       0.91      0.95      0.93        55\n",
            "      Dubstep       0.78      0.84      0.81        51\n",
            " Instrumental       0.88      0.88      0.88        42\n",
            "\n",
            "     accuracy                           0.87       823\n",
            "    macro avg       0.87      0.87      0.87       823\n",
            " weighted avg       0.88      0.87      0.87       823\n",
            "\n"
          ],
          "name": "stdout"
        }
      ]
    },
    {
      "cell_type": "code",
      "metadata": {
        "id": "PLZh_B7Ew687",
        "colab_type": "code",
        "outputId": "04be7840-00e7-4a6f-8ace-2cf291bdd61b",
        "colab": {
          "base_uri": "https://localhost:8080/",
          "height": 34
        }
      },
      "source": [
        "from sklearn.metrics import accuracy_score\n",
        "print(accuracy_score(y_true, y_pred))"
      ],
      "execution_count": 0,
      "outputs": [
        {
          "output_type": "stream",
          "text": [
            "0.8748481166464156\n"
          ],
          "name": "stdout"
        }
      ]
    },
    {
      "cell_type": "code",
      "metadata": {
        "id": "xCaMnSusxDTY",
        "colab_type": "code",
        "outputId": "3ccf653b-261b-400c-9563-a78d9373449f",
        "colab": {
          "base_uri": "https://localhost:8080/",
          "height": 335
        }
      },
      "source": [
        "from sklearn.metrics import confusion_matrix\n",
        "import seaborn as sns\n",
        "\n",
        "\n",
        "mat = confusion_matrix(y_true, y_pred)\n",
        "sns.heatmap(mat.T, square=True, annot=True, fmt='d', cbar=False,\n",
        "            xticklabels=target_names,\n",
        "            yticklabels=target_names)\n",
        "plt.xlabel('true label')\n",
        "plt.ylabel('predicted label');\n"
      ],
      "execution_count": 0,
      "outputs": [
        {
          "output_type": "display_data",
          "data": {
            "image/png": "[encoded data removed]",
            "text/plain": [
              "<Figure size 432x288 with 1 Axes>"
            ]
          },
          "metadata": {
            "tags": []
          }
        }
      ]
    },
    {
      "cell_type": "code",
      "metadata": {
        "id": "VvgJP76_xLEy",
        "colab_type": "code",
        "colab": {}
      },
      "source": [
        ""
      ],
      "execution_count": 0,
      "outputs": []
    }
  ]
}