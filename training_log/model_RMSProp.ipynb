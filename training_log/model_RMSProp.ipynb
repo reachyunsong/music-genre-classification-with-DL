{
  "nbformat": 4,
  "nbformat_minor": 0,
  "metadata": {
    "colab": {
      "name": "model_log_n.ipynb",
      "provenance": []
    },
    "kernelspec": {
      "name": "python3",
      "display_name": "Python 3"
    },
    "accelerator": "GPU"
  },
  "cells": [
    {
      "cell_type": "code",
      "metadata": {
        "id": "1tD-eXsMV1TA",
        "colab_type": "code",
        "outputId": "39198623-322c-4044-9f14-481d3d5eab49",
        "colab": {
          "base_uri": "https://localhost:8080/",
          "height": 34
        }
      },
      "source": [
        "from google.colab import drive\n",
        "drive.mount('/content/drive',force_remount=True)"
      ],
      "execution_count": 0,
      "outputs": [
        {
          "output_type": "stream",
          "text": [
            "Mounted at /content/drive\n"
          ],
          "name": "stdout"
        }
      ]
    },
    {
      "cell_type": "code",
      "metadata": {
        "id": "4zhmkOnbWAAp",
        "colab_type": "code",
        "outputId": "bffa634c-ddef-46f2-de8d-92557b63c08d",
        "colab": {
          "base_uri": "https://localhost:8080/",
          "height": 52
        }
      },
      "source": [
        "import numpy as np\n",
        "\n",
        "train = np.load('/content/drive/Shared drives/Artists!/data_modified/train_log.npz')\n",
        "print(train.files)\n",
        "x_train = train['arr_0']\n",
        "y_train = train['arr_1']\n",
        "print(x_train.shape,y_train.shape)"
      ],
      "execution_count": 0,
      "outputs": [
        {
          "output_type": "stream",
          "text": [
            "['arr_0', 'arr_1']\n",
            "(6527, 640, 128) (6527, 17)\n"
          ],
          "name": "stdout"
        }
      ]
    },
    {
      "cell_type": "code",
      "metadata": {
        "id": "f12g_biXWHEk",
        "colab_type": "code",
        "outputId": "77a44c13-15fc-4cb1-f319-1169e1981cbb",
        "colab": {
          "base_uri": "https://localhost:8080/",
          "height": 34
        }
      },
      "source": [
        "val = np.load('/content/drive/Shared drives/Artists!/data_modified/val_log.npz')\n",
        "x_val = val['arr_0']\n",
        "y_val = val['arr_1']\n",
        "print(x_val.shape,y_val.shape)"
      ],
      "execution_count": 0,
      "outputs": [
        {
          "output_type": "stream",
          "text": [
            "(814, 640, 128) (814, 17)\n"
          ],
          "name": "stdout"
        }
      ]
    },
    {
      "cell_type": "code",
      "metadata": {
        "id": "tllz8OCzWR4G",
        "colab_type": "code",
        "outputId": "3d34e2d6-484b-438c-9df4-94e830e4e29a",
        "colab": {
          "base_uri": "https://localhost:8080/",
          "height": 34
        }
      },
      "source": [
        "test = np.load('/content/drive/Shared drives/Artists!/data_modified/test_log.npz')\n",
        "x_test = test['arr_0']\n",
        "y_test = test['arr_1']\n",
        "print(x_test.shape,y_test.shape)"
      ],
      "execution_count": 0,
      "outputs": [
        {
          "output_type": "stream",
          "text": [
            "(823, 640, 128) (823,)\n"
          ],
          "name": "stdout"
        }
      ]
    },
    {
      "cell_type": "code",
      "metadata": {
        "id": "M-tdNFrhWWKn",
        "colab_type": "code",
        "outputId": "7d82732f-7c70-40bf-f1e1-8f0efa616ef4",
        "colab": {
          "base_uri": "https://localhost:8080/",
          "height": 81
        }
      },
      "source": [
        "import tensorflow as tf\n",
        "tf.__version__"
      ],
      "execution_count": 0,
      "outputs": [
        {
          "output_type": "display_data",
          "data": {
            "text/html": [
              "<p style=\"color: red;\">\n",
              "The default version of TensorFlow in Colab will soon switch to TensorFlow 2.x.<br>\n",
              "We recommend you <a href=\"https://www.tensorflow.org/guide/migrate\" target=\"_blank\">upgrade</a> now \n",
              "or ensure your notebook will continue to use TensorFlow 1.x via the <code>%tensorflow_version 1.x</code> magic:\n",
              "<a href=\"https://colab.research.google.com/notebooks/tensorflow_version.ipynb\" target=\"_blank\">more info</a>.</p>\n"
            ],
            "text/plain": [
              "<IPython.core.display.HTML object>"
            ]
          },
          "metadata": {
            "tags": []
          }
        },
        {
          "output_type": "execute_result",
          "data": {
            "text/plain": [
              "'1.15.0'"
            ]
          },
          "metadata": {
            "tags": []
          },
          "execution_count": 6
        }
      ]
    },
    {
      "cell_type": "code",
      "metadata": {
        "id": "SJBYdXIhWWum",
        "colab_type": "code",
        "outputId": "11b7b9ca-94e6-484e-bf5a-5ca6c388541b",
        "colab": {
          "base_uri": "https://localhost:8080/",
          "height": 34
        }
      },
      "source": [
        "import numpy as np\n",
        "import os\n",
        "from os.path import isfile\n",
        "import keras\n",
        "from keras.models import Sequential, Model\n",
        "from keras.layers import Input, Dense, Bidirectional, LSTM, Dropout, Activation, GRU\n",
        "from keras.layers import Conv2D, concatenate, MaxPooling2D, Flatten, Embedding, Lambda\n",
        "\n",
        "\n",
        "from keras.callbacks import ModelCheckpoint, TensorBoard, ReduceLROnPlateau\n",
        "from keras import backend as K\n",
        "from keras.utils import np_utils\n",
        "from keras.optimizers import Adam, RMSprop\n",
        "\n",
        "from keras import regularizers\n",
        "\n",
        "\n",
        "import librosa\n",
        "import librosa.display\n",
        "import matplotlib.pyplot as plt\n",
        "%matplotlib inline"
      ],
      "execution_count": 0,
      "outputs": [
        {
          "output_type": "stream",
          "text": [
            "Using TensorFlow backend.\n"
          ],
          "name": "stderr"
        }
      ]
    },
    {
      "cell_type": "code",
      "metadata": {
        "id": "Uqidee64WZWZ",
        "colab_type": "code",
        "colab": {}
      },
      "source": [
        "BATCH_SIZE = 128\n",
        "EPOCH_COUNT = 100\n",
        "num_classes = 17\n",
        "n_features = x_train.shape[2]\n",
        "n_time = x_train.shape[1]"
      ],
      "execution_count": 0,
      "outputs": []
    },
    {
      "cell_type": "code",
      "metadata": {
        "id": "UnqGFqMpWbco",
        "colab_type": "code",
        "colab": {}
      },
      "source": [
        "nb_filters1=32 \n",
        "nb_filters2=64 \n",
        "nb_filters3=64\n",
        "nb_filters4=128\n",
        "nb_filters5=64\n",
        "ksize = (3,1)\n",
        "pool_size_1= (2,2) \n",
        "pool_size_2= (2,2)\n",
        "pool_size_3 = (4,2)\n",
        "\n",
        "dropout_prob = 0.20\n",
        "dense_size1 = 128\n",
        "lstm_count = 64\n",
        "num_units = 120\n",
        "\n",
        "L2_regularization = 0.001"
      ],
      "execution_count": 0,
      "outputs": []
    },
    {
      "cell_type": "code",
      "metadata": {
        "id": "-mhhWxZKWdyz",
        "colab_type": "code",
        "colab": {}
      },
      "source": [
        "def conv_recurrent_model_build(model_input):\n",
        "    print('Building model...')\n",
        "    layer = model_input\n",
        "    \n",
        "    ### Convolutional blocks\n",
        "    conv_1 = Conv2D(filters = nb_filters1, kernel_size = ksize, strides=1,\n",
        "                      padding= 'valid', activation='relu', name='conv_1')(layer)\n",
        "    pool_1 = MaxPooling2D(pool_size_1)(conv_1)\n",
        "\n",
        "    conv_2 = Conv2D(filters = nb_filters2, kernel_size = ksize, strides=1,\n",
        "                      padding= 'valid', activation='relu', name='conv_2')(pool_1)\n",
        "    pool_2 = MaxPooling2D(pool_size_1)(conv_2)\n",
        "\n",
        "    conv_3 = Conv2D(filters = nb_filters3, kernel_size = ksize, strides=1,\n",
        "                      padding= 'valid', activation='relu', name='conv_3')(pool_2)\n",
        "    pool_3 = MaxPooling2D(pool_size_1)(conv_3)\n",
        "    \n",
        "    \n",
        "    conv_4 = Conv2D(filters = nb_filters4, kernel_size = ksize, strides=1,\n",
        "                      padding= 'valid', activation='relu', name='conv_4')(pool_3)\n",
        "    pool_4 = MaxPooling2D(pool_size_2)(conv_4)\n",
        "    \n",
        "    \n",
        "    conv_5 = Conv2D(filters = nb_filters5, kernel_size = ksize, strides=1,\n",
        "                      padding= 'valid', activation='relu', name='conv_5')(pool_4)\n",
        "    pool_5 = MaxPooling2D(pool_size_2)(conv_5)\n",
        "\n",
        "    flatten1 = Flatten()(pool_5)\n",
        "    ### Recurrent Block\n",
        "    \n",
        "    # Pooling layer\n",
        "    pool_lstm1 = MaxPooling2D(pool_size_3, name = 'pool_lstm')(layer)\n",
        "    \n",
        "    # Embedding layer\n",
        "\n",
        "    squeezed = Lambda(lambda x: K.squeeze(x, axis= -1))(pool_lstm1)\n",
        "#     flatten2 = K.squeeze(pool_lstm1, axis = -1)\n",
        "#     dense1 = Dense(dense_size1)(flatten)\n",
        "    \n",
        "    # Bidirectional GRU\n",
        "    lstm = Bidirectional(GRU(lstm_count))(squeezed)  #default merge mode is concat\n",
        "    \n",
        "    # Concat Output\n",
        "    concat = concatenate([flatten1, lstm], axis=-1, name ='concat')\n",
        "    \n",
        "    ## Softmax Output\n",
        "    output = Dense(num_classes, activation = 'softmax', name='preds')(concat)\n",
        "    \n",
        "    model_output = output\n",
        "    model = Model(model_input, model_output)\n",
        "    \n",
        "#     opt = Adam(lr=0.001)\n",
        "    opt = RMSprop(lr=0.0005)  # Optimizer\n",
        "    model.compile(\n",
        "            loss='categorical_crossentropy',\n",
        "            optimizer=opt,\n",
        "            metrics=['accuracy']\n",
        "        )\n",
        "    \n",
        "    print(model.summary())\n",
        "    return model"
      ],
      "execution_count": 0,
      "outputs": []
    },
    {
      "cell_type": "code",
      "metadata": {
        "id": "L1qrgcF_WjYy",
        "colab_type": "code",
        "colab": {}
      },
      "source": [
        "def train_model(x_train, y_train, x_val, y_val):\n",
        "    \n",
        "    n_frequency = 128\n",
        "    n_frames = 640\n",
        "    #reshape and expand dims for conv2d\n",
        "#     x_train = x_train.reshape(-1, n_frequency, n_frames)\n",
        "    x_train = np.expand_dims(x_train, axis = -1)\n",
        "    \n",
        "#     x_val = x_val.reshape(-1, n_frequency, n_frames)\n",
        "    x_val = np.expand_dims(x_val, axis = -1)\n",
        "    \n",
        "    \n",
        "    input_shape = (n_frames, n_frequency, 1)\n",
        "    model_input = Input(input_shape, name='input')\n",
        "    \n",
        "    model = conv_recurrent_model_build(model_input)\n",
        "    \n",
        "#     tb_callback = TensorBoard(log_dir='./logs/4', histogram_freq=1, batch_size=32, write_graph=True, write_grads=False,\n",
        "#                               write_images=False, embeddings_freq=0, embeddings_layer_names=None,\n",
        "#                               embeddings_metadata=None)\n",
        "    checkpoint_callback = ModelCheckpoint('/content/drive/Shared drives/Artists!/model/weights.best_log_n.h5', monitor='val_acc', verbose=1,\n",
        "                                          save_best_only=True, mode='max')\n",
        "    \n",
        "    reducelr_callback = ReduceLROnPlateau(\n",
        "                monitor='val_acc', factor=0.5, patience=5, min_delta=0.01,\n",
        "                verbose=1\n",
        "            )\n",
        "    callbacks_list = [checkpoint_callback, reducelr_callback]\n",
        "\n",
        "    # Fit the model and get training history.\n",
        "    print('Training...')\n",
        "    history = model.fit(x_train, y_train, batch_size=BATCH_SIZE, epochs=EPOCH_COUNT,\n",
        "                        validation_data=(x_val, y_val), verbose=1, callbacks=callbacks_list)\n",
        "\n",
        "    return model, history"
      ],
      "execution_count": 0,
      "outputs": []
    },
    {
      "cell_type": "code",
      "metadata": {
        "id": "loJGgI0dWos3",
        "colab_type": "code",
        "colab": {}
      },
      "source": [
        "def show_summary_stats(history):\n",
        "    # List all data in history\n",
        "    print(history.history.keys())\n",
        "\n",
        "    # Summarize history for accuracy\n",
        "    plt.plot(history.history['acc'])\n",
        "    plt.plot(history.history['val_acc'])\n",
        "    plt.title('model accuracy')\n",
        "    plt.ylabel('accuracy')\n",
        "    plt.xlabel('epoch')\n",
        "    plt.legend(['train', 'test'], loc='upper left')\n",
        "    plt.show()\n",
        "\n",
        "    # Summarize history for loss\n",
        "    plt.plot(history.history['loss'])\n",
        "    plt.plot(history.history['val_loss'])\n",
        "    plt.title('model loss')\n",
        "    plt.ylabel('loss')\n",
        "    plt.xlabel('epoch')\n",
        "    plt.legend(['train', 'test'], loc='upper left')\n",
        "    plt.show()"
      ],
      "execution_count": 0,
      "outputs": []
    },
    {
      "cell_type": "code",
      "metadata": {
        "id": "Bt1KO1mKWq97",
        "colab_type": "code",
        "outputId": "19e899e4-c16d-4ac7-ad00-910b2d772fce",
        "colab": {
          "base_uri": "https://localhost:8080/",
          "height": 1000
        }
      },
      "source": [
        "model, history  = train_model(x_train, y_train, x_val, y_val)"
      ],
      "execution_count": 0,
      "outputs": [
        {
          "output_type": "stream",
          "text": [
            "WARNING:tensorflow:From /usr/local/lib/python3.6/dist-packages/keras/backend/tensorflow_backend.py:541: The name tf.placeholder is deprecated. Please use tf.compat.v1.placeholder instead.\n",
            "\n",
            "Building model...\n",
            "WARNING:tensorflow:From /usr/local/lib/python3.6/dist-packages/keras/backend/tensorflow_backend.py:4432: The name tf.random_uniform is deprecated. Please use tf.random.uniform instead.\n",
            "\n",
            "WARNING:tensorflow:From /usr/local/lib/python3.6/dist-packages/keras/backend/tensorflow_backend.py:66: The name tf.get_default_graph is deprecated. Please use tf.compat.v1.get_default_graph instead.\n",
            "\n",
            "WARNING:tensorflow:From /usr/local/lib/python3.6/dist-packages/keras/backend/tensorflow_backend.py:4267: The name tf.nn.max_pool is deprecated. Please use tf.nn.max_pool2d instead.\n",
            "\n",
            "WARNING:tensorflow:From /usr/local/lib/python3.6/dist-packages/keras/optimizers.py:793: The name tf.train.Optimizer is deprecated. Please use tf.compat.v1.train.Optimizer instead.\n",
            "\n",
            "WARNING:tensorflow:From /usr/local/lib/python3.6/dist-packages/keras/backend/tensorflow_backend.py:3576: The name tf.log is deprecated. Please use tf.math.log instead.\n",
            "\n",
            "Model: \"model_1\"\n",
            "__________________________________________________________________________________________________\n",
            "Layer (type)                    Output Shape         Param #     Connected to                     \n",
            "==================================================================================================\n",
            "input (InputLayer)              (None, 640, 128, 1)  0                                            \n",
            "__________________________________________________________________________________________________\n",
            "conv_1 (Conv2D)                 (None, 638, 128, 32) 128         input[0][0]                      \n",
            "__________________________________________________________________________________________________\n",
            "max_pooling2d_1 (MaxPooling2D)  (None, 319, 64, 32)  0           conv_1[0][0]                     \n",
            "__________________________________________________________________________________________________\n",
            "conv_2 (Conv2D)                 (None, 317, 64, 64)  6208        max_pooling2d_1[0][0]            \n",
            "__________________________________________________________________________________________________\n",
            "max_pooling2d_2 (MaxPooling2D)  (None, 158, 32, 64)  0           conv_2[0][0]                     \n",
            "__________________________________________________________________________________________________\n",
            "conv_3 (Conv2D)                 (None, 156, 32, 64)  12352       max_pooling2d_2[0][0]            \n",
            "__________________________________________________________________________________________________\n",
            "max_pooling2d_3 (MaxPooling2D)  (None, 78, 16, 64)   0           conv_3[0][0]                     \n",
            "__________________________________________________________________________________________________\n",
            "conv_4 (Conv2D)                 (None, 76, 16, 128)  24704       max_pooling2d_3[0][0]            \n",
            "__________________________________________________________________________________________________\n",
            "max_pooling2d_4 (MaxPooling2D)  (None, 38, 8, 128)   0           conv_4[0][0]                     \n",
            "__________________________________________________________________________________________________\n",
            "conv_5 (Conv2D)                 (None, 36, 8, 64)    24640       max_pooling2d_4[0][0]            \n",
            "__________________________________________________________________________________________________\n",
            "pool_lstm (MaxPooling2D)        (None, 160, 64, 1)   0           input[0][0]                      \n",
            "__________________________________________________________________________________________________\n",
            "max_pooling2d_5 (MaxPooling2D)  (None, 18, 4, 64)    0           conv_5[0][0]                     \n",
            "__________________________________________________________________________________________________\n",
            "lambda_1 (Lambda)               (None, 160, 64)      0           pool_lstm[0][0]                  \n",
            "__________________________________________________________________________________________________\n",
            "flatten_1 (Flatten)             (None, 4608)         0           max_pooling2d_5[0][0]            \n",
            "__________________________________________________________________________________________________\n",
            "bidirectional_1 (Bidirectional) (None, 128)          49536       lambda_1[0][0]                   \n",
            "__________________________________________________________________________________________________\n",
            "concat (Concatenate)            (None, 4736)         0           flatten_1[0][0]                  \n",
            "                                                                 bidirectional_1[0][0]            \n",
            "__________________________________________________________________________________________________\n",
            "preds (Dense)                   (None, 17)           80529       concat[0][0]                     \n",
            "==================================================================================================\n",
            "Total params: 198,097\n",
            "Trainable params: 198,097\n",
            "Non-trainable params: 0\n",
            "__________________________________________________________________________________________________\n",
            "None\n",
            "Training...\n",
            "WARNING:tensorflow:From /usr/local/lib/python3.6/dist-packages/tensorflow_core/python/ops/math_grad.py:1424: where (from tensorflow.python.ops.array_ops) is deprecated and will be removed in a future version.\n",
            "Instructions for updating:\n",
            "Use tf.where in 2.0, which has the same broadcast rule as np.where\n",
            "WARNING:tensorflow:From /usr/local/lib/python3.6/dist-packages/keras/backend/tensorflow_backend.py:1033: The name tf.assign_add is deprecated. Please use tf.compat.v1.assign_add instead.\n",
            "\n",
            "WARNING:tensorflow:From /usr/local/lib/python3.6/dist-packages/keras/backend/tensorflow_backend.py:1020: The name tf.assign is deprecated. Please use tf.compat.v1.assign instead.\n",
            "\n",
            "WARNING:tensorflow:From /usr/local/lib/python3.6/dist-packages/keras/backend/tensorflow_backend.py:3005: The name tf.Session is deprecated. Please use tf.compat.v1.Session instead.\n",
            "\n",
            "Train on 6527 samples, validate on 814 samples\n",
            "Epoch 1/100\n",
            "WARNING:tensorflow:From /usr/local/lib/python3.6/dist-packages/keras/backend/tensorflow_backend.py:190: The name tf.get_default_session is deprecated. Please use tf.compat.v1.get_default_session instead.\n",
            "\n",
            "WARNING:tensorflow:From /usr/local/lib/python3.6/dist-packages/keras/backend/tensorflow_backend.py:197: The name tf.ConfigProto is deprecated. Please use tf.compat.v1.ConfigProto instead.\n",
            "\n",
            "WARNING:tensorflow:From /usr/local/lib/python3.6/dist-packages/keras/backend/tensorflow_backend.py:207: The name tf.global_variables is deprecated. Please use tf.compat.v1.global_variables instead.\n",
            "\n",
            "WARNING:tensorflow:From /usr/local/lib/python3.6/dist-packages/keras/backend/tensorflow_backend.py:216: The name tf.is_variable_initialized is deprecated. Please use tf.compat.v1.is_variable_initialized instead.\n",
            "\n",
            "WARNING:tensorflow:From /usr/local/lib/python3.6/dist-packages/keras/backend/tensorflow_backend.py:223: The name tf.variables_initializer is deprecated. Please use tf.compat.v1.variables_initializer instead.\n",
            "\n",
            "6527/6527 [==============================] - 70s 11ms/step - loss: 2.7822 - acc: 0.1273 - val_loss: 2.5228 - val_acc: 0.1990\n",
            "\n",
            "Epoch 00001: val_acc improved from -inf to 0.19902, saving model to /content/drive/Shared drives/Artists!/model/weights.best_log_n.h5\n",
            "Epoch 2/100\n",
            "6527/6527 [==============================] - 57s 9ms/step - loss: 2.4947 - acc: 0.1952 - val_loss: 2.3921 - val_acc: 0.2445\n",
            "\n",
            "Epoch 00002: val_acc improved from 0.19902 to 0.24447, saving model to /content/drive/Shared drives/Artists!/model/weights.best_log_n.h5\n",
            "Epoch 3/100\n",
            "6527/6527 [==============================] - 58s 9ms/step - loss: 2.3734 - acc: 0.2372 - val_loss: 2.2789 - val_acc: 0.2764\n",
            "\n",
            "Epoch 00003: val_acc improved from 0.24447 to 0.27641, saving model to /content/drive/Shared drives/Artists!/model/weights.best_log_n.h5\n",
            "Epoch 4/100\n",
            "6527/6527 [==============================] - 58s 9ms/step - loss: 2.2864 - acc: 0.2666 - val_loss: 2.2672 - val_acc: 0.2690\n",
            "\n",
            "Epoch 00004: val_acc did not improve from 0.27641\n",
            "Epoch 5/100\n",
            "6527/6527 [==============================] - 57s 9ms/step - loss: 2.2353 - acc: 0.2879 - val_loss: 2.3248 - val_acc: 0.2617\n",
            "\n",
            "Epoch 00005: val_acc did not improve from 0.27641\n",
            "Epoch 6/100\n",
            "6527/6527 [==============================] - 58s 9ms/step - loss: 2.1702 - acc: 0.2958 - val_loss: 2.1386 - val_acc: 0.3477\n",
            "\n",
            "Epoch 00006: val_acc improved from 0.27641 to 0.34767, saving model to /content/drive/Shared drives/Artists!/model/weights.best_log_n.h5\n",
            "Epoch 7/100\n",
            "6527/6527 [==============================] - 58s 9ms/step - loss: 2.1248 - acc: 0.3179 - val_loss: 2.0923 - val_acc: 0.3391\n",
            "\n",
            "Epoch 00007: val_acc did not improve from 0.34767\n",
            "Epoch 8/100\n",
            "6527/6527 [==============================] - 57s 9ms/step - loss: 2.0630 - acc: 0.3378 - val_loss: 2.1582 - val_acc: 0.3231\n",
            "\n",
            "Epoch 00008: val_acc did not improve from 0.34767\n",
            "Epoch 9/100\n",
            "6527/6527 [==============================] - 57s 9ms/step - loss: 2.0138 - acc: 0.3568 - val_loss: 1.9562 - val_acc: 0.3722\n",
            "\n",
            "Epoch 00009: val_acc improved from 0.34767 to 0.37224, saving model to /content/drive/Shared drives/Artists!/model/weights.best_log_n.h5\n",
            "Epoch 10/100\n",
            "6527/6527 [==============================] - 58s 9ms/step - loss: 1.9822 - acc: 0.3672 - val_loss: 1.9138 - val_acc: 0.3943\n",
            "\n",
            "Epoch 00010: val_acc improved from 0.37224 to 0.39435, saving model to /content/drive/Shared drives/Artists!/model/weights.best_log_n.h5\n",
            "Epoch 11/100\n",
            "6527/6527 [==============================] - 58s 9ms/step - loss: 1.9207 - acc: 0.3872 - val_loss: 1.8559 - val_acc: 0.4189\n",
            "\n",
            "Epoch 00011: val_acc improved from 0.39435 to 0.41892, saving model to /content/drive/Shared drives/Artists!/model/weights.best_log_n.h5\n",
            "Epoch 12/100\n",
            "6527/6527 [==============================] - 58s 9ms/step - loss: 1.8732 - acc: 0.4097 - val_loss: 1.8337 - val_acc: 0.4373\n",
            "\n",
            "Epoch 00012: val_acc improved from 0.41892 to 0.43735, saving model to /content/drive/Shared drives/Artists!/model/weights.best_log_n.h5\n",
            "Epoch 13/100\n",
            "6527/6527 [==============================] - 58s 9ms/step - loss: 1.8036 - acc: 0.4233 - val_loss: 1.8300 - val_acc: 0.4165\n",
            "\n",
            "Epoch 00013: val_acc did not improve from 0.43735\n",
            "Epoch 14/100\n",
            "6527/6527 [==============================] - 58s 9ms/step - loss: 1.7505 - acc: 0.4394 - val_loss: 1.8556 - val_acc: 0.3956\n",
            "\n",
            "Epoch 00014: val_acc did not improve from 0.43735\n",
            "Epoch 15/100\n",
            "6527/6527 [==============================] - 58s 9ms/step - loss: 1.7004 - acc: 0.4578 - val_loss: 1.7301 - val_acc: 0.4545\n",
            "\n",
            "Epoch 00015: val_acc improved from 0.43735 to 0.45455, saving model to /content/drive/Shared drives/Artists!/model/weights.best_log_n.h5\n",
            "Epoch 16/100\n",
            "6527/6527 [==============================] - 58s 9ms/step - loss: 1.6399 - acc: 0.4822 - val_loss: 1.6456 - val_acc: 0.4816\n",
            "\n",
            "Epoch 00016: val_acc improved from 0.45455 to 0.48157, saving model to /content/drive/Shared drives/Artists!/model/weights.best_log_n.h5\n",
            "Epoch 17/100\n",
            "6527/6527 [==============================] - 58s 9ms/step - loss: 1.5733 - acc: 0.5002 - val_loss: 1.7283 - val_acc: 0.4791\n",
            "\n",
            "Epoch 00017: val_acc did not improve from 0.48157\n",
            "Epoch 18/100\n",
            "6527/6527 [==============================] - 58s 9ms/step - loss: 1.5117 - acc: 0.5151 - val_loss: 1.5101 - val_acc: 0.5270\n",
            "\n",
            "Epoch 00018: val_acc improved from 0.48157 to 0.52703, saving model to /content/drive/Shared drives/Artists!/model/weights.best_log_n.h5\n",
            "Epoch 19/100\n",
            "6527/6527 [==============================] - 58s 9ms/step - loss: 1.4408 - acc: 0.5399 - val_loss: 1.5026 - val_acc: 0.5221\n",
            "\n",
            "Epoch 00019: val_acc did not improve from 0.52703\n",
            "Epoch 20/100\n",
            "6527/6527 [==============================] - 58s 9ms/step - loss: 1.3785 - acc: 0.5624 - val_loss: 1.4770 - val_acc: 0.5455\n",
            "\n",
            "Epoch 00020: val_acc improved from 0.52703 to 0.54545, saving model to /content/drive/Shared drives/Artists!/model/weights.best_log_n.h5\n",
            "Epoch 21/100\n",
            "6527/6527 [==============================] - 58s 9ms/step - loss: 1.3032 - acc: 0.5885 - val_loss: 1.3783 - val_acc: 0.5897\n",
            "\n",
            "Epoch 00021: val_acc improved from 0.54545 to 0.58968, saving model to /content/drive/Shared drives/Artists!/model/weights.best_log_n.h5\n",
            "Epoch 22/100\n",
            "6527/6527 [==============================] - 57s 9ms/step - loss: 1.2359 - acc: 0.6076 - val_loss: 1.3917 - val_acc: 0.5663\n",
            "\n",
            "Epoch 00022: val_acc did not improve from 0.58968\n",
            "Epoch 23/100\n",
            "6527/6527 [==============================] - 58s 9ms/step - loss: 1.1659 - acc: 0.6283 - val_loss: 1.3565 - val_acc: 0.5995\n",
            "\n",
            "Epoch 00023: val_acc improved from 0.58968 to 0.59951, saving model to /content/drive/Shared drives/Artists!/model/weights.best_log_n.h5\n",
            "Epoch 24/100\n",
            "6527/6527 [==============================] - 57s 9ms/step - loss: 1.0922 - acc: 0.6544 - val_loss: 1.3135 - val_acc: 0.6278\n",
            "\n",
            "Epoch 00024: val_acc improved from 0.59951 to 0.62776, saving model to /content/drive/Shared drives/Artists!/model/weights.best_log_n.h5\n",
            "Epoch 25/100\n",
            "6527/6527 [==============================] - 58s 9ms/step - loss: 1.0366 - acc: 0.6709 - val_loss: 1.2442 - val_acc: 0.6278\n",
            "\n",
            "Epoch 00025: val_acc improved from 0.62776 to 0.62776, saving model to /content/drive/Shared drives/Artists!/model/weights.best_log_n.h5\n",
            "Epoch 26/100\n",
            "6527/6527 [==============================] - 58s 9ms/step - loss: 0.9623 - acc: 0.6916 - val_loss: 1.1583 - val_acc: 0.6634\n",
            "\n",
            "Epoch 00026: val_acc improved from 0.62776 to 0.66339, saving model to /content/drive/Shared drives/Artists!/model/weights.best_log_n.h5\n",
            "Epoch 27/100\n",
            "6527/6527 [==============================] - 58s 9ms/step - loss: 0.8959 - acc: 0.7196 - val_loss: 1.1241 - val_acc: 0.6560\n",
            "\n",
            "Epoch 00027: val_acc did not improve from 0.66339\n",
            "Epoch 28/100\n",
            "6527/6527 [==============================] - 58s 9ms/step - loss: 0.8266 - acc: 0.7412 - val_loss: 1.1918 - val_acc: 0.6622\n",
            "\n",
            "Epoch 00028: val_acc did not improve from 0.66339\n",
            "Epoch 29/100\n",
            "6527/6527 [==============================] - 58s 9ms/step - loss: 0.7590 - acc: 0.7599 - val_loss: 0.9650 - val_acc: 0.7482\n",
            "\n",
            "Epoch 00029: val_acc improved from 0.66339 to 0.74816, saving model to /content/drive/Shared drives/Artists!/model/weights.best_log_n.h5\n",
            "Epoch 30/100\n",
            "6527/6527 [==============================] - 57s 9ms/step - loss: 0.7081 - acc: 0.7774 - val_loss: 1.0302 - val_acc: 0.7273\n",
            "\n",
            "Epoch 00030: val_acc did not improve from 0.74816\n",
            "Epoch 31/100\n",
            "6527/6527 [==============================] - 57s 9ms/step - loss: 0.6357 - acc: 0.7987 - val_loss: 0.9900 - val_acc: 0.7543\n",
            "\n",
            "Epoch 00031: val_acc improved from 0.74816 to 0.75430, saving model to /content/drive/Shared drives/Artists!/model/weights.best_log_n.h5\n",
            "Epoch 32/100\n",
            "6527/6527 [==============================] - 58s 9ms/step - loss: 0.5955 - acc: 0.8171 - val_loss: 0.8993 - val_acc: 0.7899\n",
            "\n",
            "Epoch 00032: val_acc improved from 0.75430 to 0.78993, saving model to /content/drive/Shared drives/Artists!/model/weights.best_log_n.h5\n",
            "Epoch 33/100\n",
            "6527/6527 [==============================] - 57s 9ms/step - loss: 0.5362 - acc: 0.8370 - val_loss: 0.9479 - val_acc: 0.7764\n",
            "\n",
            "Epoch 00033: val_acc did not improve from 0.78993\n",
            "Epoch 34/100\n",
            "6527/6527 [==============================] - 58s 9ms/step - loss: 0.5168 - acc: 0.8419 - val_loss: 0.8892 - val_acc: 0.8096\n",
            "\n",
            "Epoch 00034: val_acc improved from 0.78993 to 0.80958, saving model to /content/drive/Shared drives/Artists!/model/weights.best_log_n.h5\n",
            "Epoch 35/100\n",
            "6527/6527 [==============================] - 57s 9ms/step - loss: 0.4322 - acc: 0.8692 - val_loss: 0.8692 - val_acc: 0.8182\n",
            "\n",
            "Epoch 00035: val_acc improved from 0.80958 to 0.81818, saving model to /content/drive/Shared drives/Artists!/model/weights.best_log_n.h5\n",
            "Epoch 36/100\n",
            "6527/6527 [==============================] - 57s 9ms/step - loss: 0.4163 - acc: 0.8695 - val_loss: 1.3284 - val_acc: 0.6867\n",
            "\n",
            "Epoch 00036: val_acc did not improve from 0.81818\n",
            "Epoch 37/100\n",
            "6527/6527 [==============================] - 58s 9ms/step - loss: 0.3773 - acc: 0.8880 - val_loss: 0.8271 - val_acc: 0.8329\n",
            "\n",
            "Epoch 00037: val_acc improved from 0.81818 to 0.83292, saving model to /content/drive/Shared drives/Artists!/model/weights.best_log_n.h5\n",
            "Epoch 38/100\n",
            "6527/6527 [==============================] - 57s 9ms/step - loss: 0.3713 - acc: 0.8929 - val_loss: 0.8748 - val_acc: 0.8329\n",
            "\n",
            "Epoch 00038: val_acc did not improve from 0.83292\n",
            "Epoch 39/100\n",
            "6527/6527 [==============================] - 58s 9ms/step - loss: 0.3091 - acc: 0.9108 - val_loss: 0.8798 - val_acc: 0.8403\n",
            "\n",
            "Epoch 00039: val_acc improved from 0.83292 to 0.84029, saving model to /content/drive/Shared drives/Artists!/model/weights.best_log_n.h5\n",
            "Epoch 40/100\n",
            "6527/6527 [==============================] - 57s 9ms/step - loss: 0.3176 - acc: 0.9147 - val_loss: 0.8530 - val_acc: 0.8538\n",
            "\n",
            "Epoch 00040: val_acc improved from 0.84029 to 0.85381, saving model to /content/drive/Shared drives/Artists!/model/weights.best_log_n.h5\n",
            "Epoch 41/100\n",
            "6527/6527 [==============================] - 57s 9ms/step - loss: 0.2714 - acc: 0.9283 - val_loss: 0.8645 - val_acc: 0.8575\n",
            "\n",
            "Epoch 00041: val_acc improved from 0.85381 to 0.85749, saving model to /content/drive/Shared drives/Artists!/model/weights.best_log_n.h5\n",
            "Epoch 42/100\n",
            "6527/6527 [==============================] - 57s 9ms/step - loss: 0.2511 - acc: 0.9323 - val_loss: 0.9418 - val_acc: 0.8243\n",
            "\n",
            "Epoch 00042: val_acc did not improve from 0.85749\n",
            "Epoch 43/100\n",
            "6527/6527 [==============================] - 58s 9ms/step - loss: 0.2100 - acc: 0.9444 - val_loss: 0.9294 - val_acc: 0.8575\n",
            "\n",
            "Epoch 00043: val_acc did not improve from 0.85749\n",
            "Epoch 44/100\n",
            "6527/6527 [==============================] - 57s 9ms/step - loss: 0.2003 - acc: 0.9488 - val_loss: 0.9569 - val_acc: 0.8587\n",
            "\n",
            "Epoch 00044: val_acc improved from 0.85749 to 0.85872, saving model to /content/drive/Shared drives/Artists!/model/weights.best_log_n.h5\n",
            "Epoch 45/100\n",
            "6527/6527 [==============================] - 57s 9ms/step - loss: 0.2148 - acc: 0.9462 - val_loss: 0.8863 - val_acc: 0.8600\n",
            "\n",
            "Epoch 00045: val_acc improved from 0.85872 to 0.85995, saving model to /content/drive/Shared drives/Artists!/model/weights.best_log_n.h5\n",
            "Epoch 46/100\n",
            "6527/6527 [==============================] - 57s 9ms/step - loss: 0.1722 - acc: 0.9542 - val_loss: 0.9744 - val_acc: 0.8305\n",
            "\n",
            "Epoch 00046: val_acc did not improve from 0.85995\n",
            "Epoch 47/100\n",
            "6527/6527 [==============================] - 57s 9ms/step - loss: 0.1526 - acc: 0.9666 - val_loss: 1.0896 - val_acc: 0.8329\n",
            "\n",
            "Epoch 00047: val_acc did not improve from 0.85995\n",
            "Epoch 48/100\n",
            "6527/6527 [==============================] - 58s 9ms/step - loss: 0.1840 - acc: 0.9504 - val_loss: 1.5227 - val_acc: 0.7568\n",
            "\n",
            "Epoch 00048: val_acc did not improve from 0.85995\n",
            "Epoch 49/100\n",
            "6527/6527 [==============================] - 58s 9ms/step - loss: 0.1724 - acc: 0.9571 - val_loss: 0.8967 - val_acc: 0.8612\n",
            "\n",
            "Epoch 00049: val_acc improved from 0.85995 to 0.86118, saving model to /content/drive/Shared drives/Artists!/model/weights.best_log_n.h5\n",
            "Epoch 50/100\n",
            "6527/6527 [==============================] - 60s 9ms/step - loss: 0.1115 - acc: 0.9720 - val_loss: 1.0002 - val_acc: 0.8759\n",
            "\n",
            "Epoch 00050: val_acc improved from 0.86118 to 0.87592, saving model to /content/drive/Shared drives/Artists!/model/weights.best_log_n.h5\n",
            "Epoch 51/100\n",
            "6527/6527 [==============================] - 58s 9ms/step - loss: 0.1745 - acc: 0.9606 - val_loss: 0.9774 - val_acc: 0.8722\n",
            "\n",
            "Epoch 00051: val_acc did not improve from 0.87592\n",
            "Epoch 52/100\n",
            "6527/6527 [==============================] - 58s 9ms/step - loss: 0.1415 - acc: 0.9740 - val_loss: 1.0080 - val_acc: 0.8747\n",
            "\n",
            "Epoch 00052: val_acc did not improve from 0.87592\n",
            "Epoch 53/100\n",
            "6527/6527 [==============================] - 58s 9ms/step - loss: 0.1517 - acc: 0.9629 - val_loss: 0.9464 - val_acc: 0.8722\n",
            "\n",
            "Epoch 00053: val_acc did not improve from 0.87592\n",
            "Epoch 54/100\n",
            "6527/6527 [==============================] - 58s 9ms/step - loss: 0.0964 - acc: 0.9755 - val_loss: 1.6745 - val_acc: 0.7396\n",
            "\n",
            "Epoch 00054: val_acc did not improve from 0.87592\n",
            "Epoch 55/100\n",
            "6527/6527 [==============================] - 58s 9ms/step - loss: 0.1240 - acc: 0.9666 - val_loss: 3.0066 - val_acc: 0.5774\n",
            "\n",
            "Epoch 00055: val_acc did not improve from 0.87592\n",
            "Epoch 56/100\n",
            "6527/6527 [==============================] - 58s 9ms/step - loss: 0.1496 - acc: 0.9663 - val_loss: 0.9636 - val_acc: 0.8771\n",
            "\n",
            "Epoch 00056: val_acc improved from 0.87592 to 0.87715, saving model to /content/drive/Shared drives/Artists!/model/weights.best_log_n.h5\n",
            "Epoch 57/100\n",
            "6527/6527 [==============================] - 58s 9ms/step - loss: 0.1257 - acc: 0.9683 - val_loss: 1.3062 - val_acc: 0.8108\n",
            "\n",
            "Epoch 00057: val_acc did not improve from 0.87715\n",
            "Epoch 58/100\n",
            "6527/6527 [==============================] - 57s 9ms/step - loss: 0.0837 - acc: 0.9825 - val_loss: 1.0351 - val_acc: 0.8722\n",
            "\n",
            "Epoch 00058: val_acc did not improve from 0.87715\n",
            "Epoch 59/100\n",
            "6527/6527 [==============================] - 58s 9ms/step - loss: 0.1455 - acc: 0.9669 - val_loss: 1.1547 - val_acc: 0.8489\n",
            "\n",
            "Epoch 00059: val_acc did not improve from 0.87715\n",
            "Epoch 60/100\n",
            "6527/6527 [==============================] - 58s 9ms/step - loss: 0.1159 - acc: 0.9750 - val_loss: 1.0502 - val_acc: 0.8747\n",
            "\n",
            "Epoch 00060: val_acc did not improve from 0.87715\n",
            "\n",
            "Epoch 00060: ReduceLROnPlateau reducing learning rate to 0.0002500000118743628.\n",
            "Epoch 61/100\n",
            "6527/6527 [==============================] - 57s 9ms/step - loss: 0.0198 - acc: 0.9977 - val_loss: 1.1133 - val_acc: 0.8722\n",
            "\n",
            "Epoch 00061: val_acc did not improve from 0.87715\n",
            "Epoch 62/100\n",
            "6527/6527 [==============================] - 58s 9ms/step - loss: 0.0238 - acc: 0.9968 - val_loss: 1.1319 - val_acc: 0.8784\n",
            "\n",
            "Epoch 00062: val_acc improved from 0.87715 to 0.87838, saving model to /content/drive/Shared drives/Artists!/model/weights.best_log_n.h5\n",
            "Epoch 63/100\n",
            "6527/6527 [==============================] - 57s 9ms/step - loss: 0.0226 - acc: 0.9962 - val_loss: 1.1186 - val_acc: 0.8735\n",
            "\n",
            "Epoch 00063: val_acc did not improve from 0.87838\n",
            "Epoch 64/100\n",
            "6527/6527 [==============================] - 58s 9ms/step - loss: 0.0193 - acc: 0.9972 - val_loss: 1.1410 - val_acc: 0.8710\n",
            "\n",
            "Epoch 00064: val_acc did not improve from 0.87838\n",
            "Epoch 65/100\n",
            "6527/6527 [==============================] - 58s 9ms/step - loss: 0.0228 - acc: 0.9960 - val_loss: 1.1116 - val_acc: 0.8759\n",
            "\n",
            "Epoch 00065: val_acc did not improve from 0.87838\n",
            "Epoch 66/100\n",
            "6527/6527 [==============================] - 57s 9ms/step - loss: 0.0223 - acc: 0.9957 - val_loss: 1.0989 - val_acc: 0.8735\n",
            "\n",
            "Epoch 00066: val_acc did not improve from 0.87838\n",
            "Epoch 67/100\n",
            "6527/6527 [==============================] - 58s 9ms/step - loss: 0.0154 - acc: 0.9974 - val_loss: 1.1519 - val_acc: 0.8698\n",
            "\n",
            "Epoch 00067: val_acc did not improve from 0.87838\n",
            "Epoch 68/100\n",
            "6527/6527 [==============================] - 58s 9ms/step - loss: 0.0193 - acc: 0.9972 - val_loss: 1.0896 - val_acc: 0.8710\n",
            "\n",
            "Epoch 00068: val_acc did not improve from 0.87838\n",
            "Epoch 69/100\n",
            "6527/6527 [==============================] - 57s 9ms/step - loss: 0.0205 - acc: 0.9971 - val_loss: 1.0980 - val_acc: 0.8771\n",
            "\n",
            "Epoch 00069: val_acc did not improve from 0.87838\n",
            "Epoch 70/100\n",
            "6527/6527 [==============================] - 57s 9ms/step - loss: 0.0185 - acc: 0.9965 - val_loss: 1.1699 - val_acc: 0.8710\n",
            "\n",
            "Epoch 00070: val_acc did not improve from 0.87838\n",
            "\n",
            "Epoch 00070: ReduceLROnPlateau reducing learning rate to 0.0001250000059371814.\n",
            "Epoch 71/100\n",
            "6527/6527 [==============================] - 57s 9ms/step - loss: 0.0120 - acc: 0.9985 - val_loss: 1.1401 - val_acc: 0.8759\n",
            "\n",
            "Epoch 00071: val_acc did not improve from 0.87838\n",
            "Epoch 72/100\n",
            "6527/6527 [==============================] - 58s 9ms/step - loss: 0.0110 - acc: 0.9982 - val_loss: 1.0981 - val_acc: 0.8796\n",
            "\n",
            "Epoch 00072: val_acc improved from 0.87838 to 0.87961, saving model to /content/drive/Shared drives/Artists!/model/weights.best_log_n.h5\n",
            "Epoch 73/100\n",
            "6527/6527 [==============================] - 57s 9ms/step - loss: 0.0096 - acc: 0.9983 - val_loss: 1.1249 - val_acc: 0.8735\n",
            "\n",
            "Epoch 00073: val_acc did not improve from 0.87961\n",
            "Epoch 74/100\n",
            "6527/6527 [==============================] - 58s 9ms/step - loss: 0.0106 - acc: 0.9983 - val_loss: 1.1370 - val_acc: 0.8796\n",
            "\n",
            "Epoch 00074: val_acc did not improve from 0.87961\n",
            "Epoch 75/100\n",
            "6527/6527 [==============================] - 58s 9ms/step - loss: 0.0113 - acc: 0.9982 - val_loss: 1.1556 - val_acc: 0.8771\n",
            "\n",
            "Epoch 00075: val_acc did not improve from 0.87961\n",
            "Epoch 76/100\n",
            "6527/6527 [==============================] - 58s 9ms/step - loss: 0.0074 - acc: 0.9986 - val_loss: 1.1585 - val_acc: 0.8735\n",
            "\n",
            "Epoch 00076: val_acc did not improve from 0.87961\n",
            "Epoch 77/100\n",
            "6527/6527 [==============================] - 57s 9ms/step - loss: 0.0121 - acc: 0.9977 - val_loss: 1.1620 - val_acc: 0.8747\n",
            "\n",
            "Epoch 00077: val_acc did not improve from 0.87961\n",
            "Epoch 78/100\n",
            "6527/6527 [==============================] - 57s 9ms/step - loss: 0.0111 - acc: 0.9983 - val_loss: 1.1666 - val_acc: 0.8735\n",
            "\n",
            "Epoch 00078: val_acc did not improve from 0.87961\n",
            "Epoch 79/100\n",
            "6527/6527 [==============================] - 58s 9ms/step - loss: 0.0094 - acc: 0.9985 - val_loss: 1.1625 - val_acc: 0.8747\n",
            "\n",
            "Epoch 00079: val_acc did not improve from 0.87961\n",
            "Epoch 80/100\n",
            "6527/6527 [==============================] - 58s 9ms/step - loss: 0.0093 - acc: 0.9982 - val_loss: 1.1392 - val_acc: 0.8747\n",
            "\n",
            "Epoch 00080: val_acc did not improve from 0.87961\n",
            "\n",
            "Epoch 00080: ReduceLROnPlateau reducing learning rate to 6.25000029685907e-05.\n",
            "Epoch 81/100\n",
            "6527/6527 [==============================] - 58s 9ms/step - loss: 0.0083 - acc: 0.9980 - val_loss: 1.1626 - val_acc: 0.8771\n",
            "\n",
            "Epoch 00081: val_acc did not improve from 0.87961\n",
            "Epoch 82/100\n",
            "6527/6527 [==============================] - 57s 9ms/step - loss: 0.0075 - acc: 0.9977 - val_loss: 1.1776 - val_acc: 0.8735\n",
            "\n",
            "Epoch 00082: val_acc did not improve from 0.87961\n",
            "Epoch 83/100\n",
            "6527/6527 [==============================] - 58s 9ms/step - loss: 0.0043 - acc: 0.9989 - val_loss: 1.1941 - val_acc: 0.8796\n",
            "\n",
            "Epoch 00083: val_acc did not improve from 0.87961\n",
            "Epoch 84/100\n",
            "6527/6527 [==============================] - 57s 9ms/step - loss: 0.0070 - acc: 0.9977 - val_loss: 1.1763 - val_acc: 0.8759\n",
            "\n",
            "Epoch 00084: val_acc did not improve from 0.87961\n",
            "Epoch 85/100\n",
            "6527/6527 [==============================] - 57s 9ms/step - loss: 0.0055 - acc: 0.9980 - val_loss: 1.1804 - val_acc: 0.8747\n",
            "\n",
            "Epoch 00085: val_acc did not improve from 0.87961\n",
            "Epoch 86/100\n",
            "6527/6527 [==============================] - 58s 9ms/step - loss: 0.0065 - acc: 0.9985 - val_loss: 1.1687 - val_acc: 0.8722\n",
            "\n",
            "Epoch 00086: val_acc did not improve from 0.87961\n",
            "Epoch 87/100\n",
            "6527/6527 [==============================] - 58s 9ms/step - loss: 0.0066 - acc: 0.9977 - val_loss: 1.1714 - val_acc: 0.8759\n",
            "\n",
            "Epoch 00087: val_acc did not improve from 0.87961\n",
            "Epoch 88/100\n",
            "6527/6527 [==============================] - 58s 9ms/step - loss: 0.0052 - acc: 0.9983 - val_loss: 1.1924 - val_acc: 0.8771\n",
            "\n",
            "Epoch 00088: val_acc did not improve from 0.87961\n",
            "Epoch 89/100\n",
            "6527/6527 [==============================] - 58s 9ms/step - loss: 0.0065 - acc: 0.9979 - val_loss: 1.1889 - val_acc: 0.8722\n",
            "\n",
            "Epoch 00089: val_acc did not improve from 0.87961\n",
            "Epoch 90/100\n",
            "6527/6527 [==============================] - 58s 9ms/step - loss: 0.0064 - acc: 0.9977 - val_loss: 1.2012 - val_acc: 0.8735\n",
            "\n",
            "Epoch 00090: val_acc did not improve from 0.87961\n",
            "\n",
            "Epoch 00090: ReduceLROnPlateau reducing learning rate to 3.125000148429535e-05.\n",
            "Epoch 91/100\n",
            "6527/6527 [==============================] - 58s 9ms/step - loss: 0.0046 - acc: 0.9980 - val_loss: 1.1929 - val_acc: 0.8759\n",
            "\n",
            "Epoch 00091: val_acc did not improve from 0.87961\n",
            "Epoch 92/100\n",
            "6527/6527 [==============================] - 58s 9ms/step - loss: 0.0040 - acc: 0.9979 - val_loss: 1.1790 - val_acc: 0.8771\n",
            "\n",
            "Epoch 00092: val_acc did not improve from 0.87961\n",
            "Epoch 93/100\n",
            "6527/6527 [==============================] - 58s 9ms/step - loss: 0.0043 - acc: 0.9980 - val_loss: 1.1847 - val_acc: 0.8759\n",
            "\n",
            "Epoch 00093: val_acc did not improve from 0.87961\n",
            "Epoch 94/100\n",
            "6527/6527 [==============================] - 58s 9ms/step - loss: 0.0039 - acc: 0.9979 - val_loss: 1.1816 - val_acc: 0.8759\n",
            "\n",
            "Epoch 00094: val_acc did not improve from 0.87961\n",
            "Epoch 95/100\n",
            "6527/6527 [==============================] - 58s 9ms/step - loss: 0.0045 - acc: 0.9980 - val_loss: 1.1855 - val_acc: 0.8747\n",
            "\n",
            "Epoch 00095: val_acc did not improve from 0.87961\n",
            "Epoch 96/100\n",
            "6527/6527 [==============================] - 57s 9ms/step - loss: 0.0040 - acc: 0.9979 - val_loss: 1.1822 - val_acc: 0.8759\n",
            "\n",
            "Epoch 00096: val_acc did not improve from 0.87961\n",
            "Epoch 97/100\n",
            "6527/6527 [==============================] - 57s 9ms/step - loss: 0.0044 - acc: 0.9977 - val_loss: 1.1845 - val_acc: 0.8747\n",
            "\n",
            "Epoch 00097: val_acc did not improve from 0.87961\n",
            "Epoch 98/100\n",
            "6527/6527 [==============================] - 57s 9ms/step - loss: 0.0043 - acc: 0.9974 - val_loss: 1.1920 - val_acc: 0.8747\n",
            "\n",
            "Epoch 00098: val_acc did not improve from 0.87961\n",
            "Epoch 99/100\n",
            "6527/6527 [==============================] - 57s 9ms/step - loss: 0.0035 - acc: 0.9975 - val_loss: 1.1937 - val_acc: 0.8759\n",
            "\n",
            "Epoch 00099: val_acc did not improve from 0.87961\n",
            "Epoch 100/100\n",
            "6527/6527 [==============================] - 58s 9ms/step - loss: 0.0045 - acc: 0.9977 - val_loss: 1.1916 - val_acc: 0.8747\n",
            "\n",
            "Epoch 00100: val_acc did not improve from 0.87961\n",
            "\n",
            "Epoch 00100: ReduceLROnPlateau reducing learning rate to 1.5625000742147677e-05.\n"
          ],
          "name": "stdout"
        }
      ]
    },
    {
      "cell_type": "code",
      "metadata": {
        "id": "Rxjlkl6If9PM",
        "colab_type": "code",
        "outputId": "ad233efc-d343-4d92-c452-77eebcd73e77",
        "colab": {
          "base_uri": "https://localhost:8080/"
        }
      },
      "source": [
        "show_summary_stats(history)\n"
      ],
      "execution_count": 0,
      "outputs": [
        {
          "output_type": "stream",
          "text": [
            "dict_keys(['val_loss', 'val_acc', 'loss', 'acc', 'lr'])\n"
          ],
          "name": "stdout"
        },
        {
          "output_type": "display_data",
          "data": {
            "image/png": "[encoded data removed]",
            "text/plain": [
              "<Figure size 432x288 with 1 Axes>"
            ]
          },
          "metadata": {
            "tags": []
          }
        },
        {
          "output_type": "display_data",
          "data": {
            "image/png": "[encoded data removed]",
            "text/plain": [
              "<Figure size 432x288 with 1 Axes>"
            ]
          },
          "metadata": {
            "tags": []
          }
        }
      ]
    },
    {
      "cell_type": "code",
      "metadata": {
        "id": "8-BMxezsgFsD",
        "colab_type": "code",
        "outputId": "d7e4b1c0-cc45-4f63-dc65-0233916dc233",
        "colab": {
          "base_uri": "https://localhost:8080/",
          "height": 461
        }
      },
      "source": [
        "\n",
        "from sklearn.metrics import classification_report\n",
        "y_true = np.argmax(y_val, axis = 1)\n",
        "x_valid = np.expand_dims(x_val, axis = -1)\n",
        "y_pred = model.predict(x_valid)\n",
        "y_pred = np.argmax(y_pred, axis=1)\n",
        "# target_names = ['2', '4','5','10','12','15','17','18','21','25','26','38','181','182','297','468','1235']\n",
        "target_names = ['International', 'Jazz','Classical','Pop','Rock','Electronic','Folk','Soundtrack','Hip-Hop','Punk','Post-Rock','Experimental','Techno','House','Chip Music','Dubstep','Instrumental']\n",
        "\n",
        "print(y_true.shape, y_pred.shape)\n",
        "print(classification_report(y_true, y_pred, target_names=target_names))\n"
      ],
      "execution_count": 0,
      "outputs": [
        {
          "output_type": "stream",
          "text": [
            "(814,) (814,)\n",
            "               precision    recall  f1-score   support\n",
            "\n",
            "International       0.82      0.89      0.85        53\n",
            "         Jazz       0.83      0.86      0.84        44\n",
            "    Classical       0.93      0.91      0.92        45\n",
            "          Pop       0.91      0.81      0.86        63\n",
            "         Rock       0.81      0.76      0.79        51\n",
            "   Electronic       0.80      0.85      0.83        53\n",
            "         Folk       0.88      0.86      0.87        50\n",
            "   Soundtrack       0.90      0.94      0.92        48\n",
            "      Hip-Hop       0.92      0.82      0.87        44\n",
            "         Punk       0.81      0.92      0.86        52\n",
            "    Post-Rock       0.91      0.91      0.91        45\n",
            " Experimental       0.86      0.88      0.87        49\n",
            "       Techno       0.89      0.89      0.89        54\n",
            "        House       0.87      0.87      0.87        39\n",
            "   Chip Music       0.96      0.92      0.94        50\n",
            "      Dubstep       0.97      0.88      0.92        34\n",
            " Instrumental       0.86      0.93      0.89        40\n",
            "\n",
            "     accuracy                           0.87       814\n",
            "    macro avg       0.88      0.88      0.88       814\n",
            " weighted avg       0.88      0.87      0.87       814\n",
            "\n"
          ],
          "name": "stdout"
        }
      ]
    },
    {
      "cell_type": "code",
      "metadata": {
        "id": "10FmuJ_fjiDe",
        "colab_type": "code",
        "outputId": "8757e8aa-f451-48a3-c0f4-a8fbdec21740",
        "colab": {
          "base_uri": "https://localhost:8080/"
        }
      },
      "source": [
        "from sklearn.metrics import accuracy_score\n",
        "\n",
        "print(accuracy_score(y_true, y_pred))"
      ],
      "execution_count": 0,
      "outputs": [
        {
          "output_type": "stream",
          "text": [
            "0.8746928746928747\n"
          ],
          "name": "stdout"
        }
      ]
    },
    {
      "cell_type": "markdown",
      "metadata": {
        "id": "vw5V5acHjzzN",
        "colab_type": "text"
      },
      "source": [
        "TEST"
      ]
    },
    {
      "cell_type": "code",
      "metadata": {
        "id": "mWCXzW98jF8r",
        "colab_type": "code",
        "colab": {}
      },
      "source": [
        "# test = np.load('/content/drive/Shared drives/Artists!/data_modified/test_log.npz')\n",
        "# x_test = test['arr_0']\n",
        "# y_test = test['arr_1']\n",
        "# print(x_test.shape,y_test.shape)"
      ],
      "execution_count": 0,
      "outputs": []
    },
    {
      "cell_type": "code",
      "metadata": {
        "id": "NKP2IxY1j228",
        "colab_type": "code",
        "colab": {}
      },
      "source": [
        "from keras.models import load_model\n",
        "weights_path = '/content/drive/Shared drives/Artists!/model/weights.best_log_n.h5'\n",
        "model_log = load_model(weights_path)"
      ],
      "execution_count": 0,
      "outputs": []
    },
    {
      "cell_type": "code",
      "metadata": {
        "id": "Nh_F3sjNj7ct",
        "colab_type": "code",
        "colab": {}
      },
      "source": [
        "import pandas as pd\n",
        "y_test_one = np.array(pd.get_dummies(y_test))"
      ],
      "execution_count": 0,
      "outputs": []
    },
    {
      "cell_type": "code",
      "metadata": {
        "id": "axGx4DIAksqI",
        "colab_type": "code",
        "outputId": "853234a2-5708-40a8-de5f-f22767453d71",
        "colab": {
          "base_uri": "https://localhost:8080/"
        }
      },
      "source": [
        "print(y_test_one.shape)"
      ],
      "execution_count": 0,
      "outputs": [
        {
          "output_type": "stream",
          "text": [
            "(823, 17)\n"
          ],
          "name": "stdout"
        }
      ]
    },
    {
      "cell_type": "code",
      "metadata": {
        "id": "QTAAN3cfkhwx",
        "colab_type": "code",
        "outputId": "9252ddb7-bf46-482c-fbec-782c245f9baa",
        "colab": {
          "base_uri": "https://localhost:8080/",
          "height": 461
        }
      },
      "source": [
        "from sklearn.metrics import classification_report\n",
        "\n",
        "y_true = np.argmax(y_test_one, axis=1)\n",
        "x_test = np.expand_dims(x_test, axis = -1)\n",
        "y_pred = model_log.predict(x_test)\n",
        "y_pred = np.argmax(y_pred, axis=1)\n",
        "# target_names = ['2', '4','5','10','12','15','17','18','21','25','26','38','181','182','297','468','1235']\n",
        "target_names = ['International', 'Jazz','Classical','Pop','Rock','Electronic','Folk','Soundtrack','Hip-Hop','Punk','Post-Rock','Experimental','Techno','House','Chip Music','Dubstep','Instrumental']\n",
        "\n",
        "print(y_true.shape, y_pred.shape)\n",
        "print(classification_report(y_true, y_pred, target_names=target_names))"
      ],
      "execution_count": 0,
      "outputs": [
        {
          "output_type": "stream",
          "text": [
            "(823,) (823,)\n",
            "               precision    recall  f1-score   support\n",
            "\n",
            "International       0.95      0.95      0.95        56\n",
            "         Jazz       0.75      0.83      0.79        29\n",
            "    Classical       0.96      0.86      0.91        51\n",
            "          Pop       0.84      0.86      0.85        49\n",
            "         Rock       0.86      0.86      0.86        59\n",
            "   Electronic       0.89      0.78      0.83        50\n",
            "         Folk       0.85      0.80      0.83        51\n",
            "   Soundtrack       0.73      0.87      0.80        54\n",
            "      Hip-Hop       0.94      0.88      0.91        51\n",
            "         Punk       0.88      0.94      0.91        53\n",
            "    Post-Rock       0.91      0.82      0.86        38\n",
            " Experimental       0.85      0.82      0.84        50\n",
            "       Techno       0.86      0.82      0.84        44\n",
            "        House       0.82      0.90      0.86        40\n",
            "   Chip Music       0.93      0.98      0.96        55\n",
            "      Dubstep       0.88      0.88      0.88        51\n",
            " Instrumental       0.86      0.86      0.86        42\n",
            "\n",
            "     accuracy                           0.87       823\n",
            "    macro avg       0.87      0.87      0.87       823\n",
            " weighted avg       0.87      0.87      0.87       823\n",
            "\n"
          ],
          "name": "stdout"
        }
      ]
    },
    {
      "cell_type": "code",
      "metadata": {
        "id": "PLZh_B7Ew687",
        "colab_type": "code",
        "outputId": "363f4566-861b-4b8b-ec6e-79d8ca52d67d",
        "colab": {
          "base_uri": "https://localhost:8080/"
        }
      },
      "source": [
        "from sklearn.metrics import accuracy_score\n",
        "print(accuracy_score(y_true, y_pred))"
      ],
      "execution_count": 0,
      "outputs": [
        {
          "output_type": "stream",
          "text": [
            "0.8687727825030377\n"
          ],
          "name": "stdout"
        }
      ]
    },
    {
      "cell_type": "code",
      "metadata": {
        "id": "xCaMnSusxDTY",
        "colab_type": "code",
        "outputId": "c73a55ca-85d7-43e6-c76f-03f232372580",
        "colab": {
          "base_uri": "https://localhost:8080/",
          "height": 335
        }
      },
      "source": [
        "from sklearn.metrics import confusion_matrix\n",
        "import seaborn as sns\n",
        "\n",
        "\n",
        "mat = confusion_matrix(y_true, y_pred)\n",
        "sns.heatmap(mat.T, square=True, annot=True, fmt='d', cbar=False,\n",
        "            xticklabels=target_names,\n",
        "            yticklabels=target_names)\n",
        "plt.xlabel('true label')\n",
        "plt.ylabel('predicted label');\n"
      ],
      "execution_count": 0,
      "outputs": [
        {
          "output_type": "display_data",
          "data": {
            "image/png": "[encoded data removed]",
            "text/plain": [
              "<Figure size 432x288 with 1 Axes>"
            ]
          },
          "metadata": {
            "tags": []
          }
        }
      ]
    },
    {
      "cell_type": "code",
      "metadata": {
        "id": "VvgJP76_xLEy",
        "colab_type": "code",
        "colab": {}
      },
      "source": [
        ""
      ],
      "execution_count": 0,
      "outputs": []
    }
  ]
}